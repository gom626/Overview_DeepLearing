{
  "nbformat": 4,
  "nbformat_minor": 0,
  "metadata": {
    "colab": {
      "name": "EMNIST dataset (by merge) - Model 1 : 숫자 영문 (digit/ 구분.ipynb",
      "provenance": [],
      "collapsed_sections": []
    },
    "kernelspec": {
      "name": "python3",
      "display_name": "Python 3"
    },
    "accelerator": "GPU",
    "widgets": {
      "application/vnd.jupyter.widget-state+json": {
        "73b75db76a9049f5b6bde0eb3b0116a6": {
          "model_module": "@jupyter-widgets/controls",
          "model_name": "HBoxModel",
          "state": {
            "_view_name": "HBoxView",
            "_dom_classes": [],
            "_model_name": "HBoxModel",
            "_view_module": "@jupyter-widgets/controls",
            "_model_module_version": "1.5.0",
            "_view_count": null,
            "_view_module_version": "1.5.0",
            "box_style": "",
            "layout": "IPY_MODEL_e20513f44c054c3d9e5dee03e694493b",
            "_model_module": "@jupyter-widgets/controls",
            "children": [
              "IPY_MODEL_cebd96b4dd74440ca6a609df19b937a5",
              "IPY_MODEL_2c863d217ea6424abf0d8d1be50fb90a"
            ]
          }
        },
        "e20513f44c054c3d9e5dee03e694493b": {
          "model_module": "@jupyter-widgets/base",
          "model_name": "LayoutModel",
          "state": {
            "_view_name": "LayoutView",
            "grid_template_rows": null,
            "right": null,
            "justify_content": null,
            "_view_module": "@jupyter-widgets/base",
            "overflow": null,
            "_model_module_version": "1.2.0",
            "_view_count": null,
            "flex_flow": null,
            "width": null,
            "min_width": null,
            "border": null,
            "align_items": null,
            "bottom": null,
            "_model_module": "@jupyter-widgets/base",
            "top": null,
            "grid_column": null,
            "overflow_y": null,
            "overflow_x": null,
            "grid_auto_flow": null,
            "grid_area": null,
            "grid_template_columns": null,
            "flex": null,
            "_model_name": "LayoutModel",
            "justify_items": null,
            "grid_row": null,
            "max_height": null,
            "align_content": null,
            "visibility": null,
            "align_self": null,
            "height": null,
            "min_height": null,
            "padding": null,
            "grid_auto_rows": null,
            "grid_gap": null,
            "max_width": null,
            "order": null,
            "_view_module_version": "1.2.0",
            "grid_template_areas": null,
            "object_position": null,
            "object_fit": null,
            "grid_auto_columns": null,
            "margin": null,
            "display": null,
            "left": null
          }
        },
        "cebd96b4dd74440ca6a609df19b937a5": {
          "model_module": "@jupyter-widgets/controls",
          "model_name": "FloatProgressModel",
          "state": {
            "_view_name": "ProgressView",
            "style": "IPY_MODEL_c93abf1d1ea54ef1afcf0c914a492e8f",
            "_dom_classes": [],
            "description": "",
            "_model_name": "FloatProgressModel",
            "bar_style": "info",
            "max": 1,
            "_view_module": "@jupyter-widgets/controls",
            "_model_module_version": "1.5.0",
            "value": 1,
            "_view_count": null,
            "_view_module_version": "1.5.0",
            "orientation": "horizontal",
            "min": 0,
            "description_tooltip": null,
            "_model_module": "@jupyter-widgets/controls",
            "layout": "IPY_MODEL_ca8cbe8da9c349169262763f9a3c36fc"
          }
        },
        "2c863d217ea6424abf0d8d1be50fb90a": {
          "model_module": "@jupyter-widgets/controls",
          "model_name": "HTMLModel",
          "state": {
            "_view_name": "HTMLView",
            "style": "IPY_MODEL_1705eef402a545d1b455fe2cc44164d6",
            "_dom_classes": [],
            "description": "",
            "_model_name": "HTMLModel",
            "placeholder": "​",
            "_view_module": "@jupyter-widgets/controls",
            "_model_module_version": "1.5.0",
            "value": " 561758208/? [00:30&lt;00:00, 75916491.26it/s]",
            "_view_count": null,
            "_view_module_version": "1.5.0",
            "description_tooltip": null,
            "_model_module": "@jupyter-widgets/controls",
            "layout": "IPY_MODEL_5ccb0fe3cfad45e2a0c4c5775a009a3b"
          }
        },
        "c93abf1d1ea54ef1afcf0c914a492e8f": {
          "model_module": "@jupyter-widgets/controls",
          "model_name": "ProgressStyleModel",
          "state": {
            "_view_name": "StyleView",
            "_model_name": "ProgressStyleModel",
            "description_width": "initial",
            "_view_module": "@jupyter-widgets/base",
            "_model_module_version": "1.5.0",
            "_view_count": null,
            "_view_module_version": "1.2.0",
            "bar_color": null,
            "_model_module": "@jupyter-widgets/controls"
          }
        },
        "ca8cbe8da9c349169262763f9a3c36fc": {
          "model_module": "@jupyter-widgets/base",
          "model_name": "LayoutModel",
          "state": {
            "_view_name": "LayoutView",
            "grid_template_rows": null,
            "right": null,
            "justify_content": null,
            "_view_module": "@jupyter-widgets/base",
            "overflow": null,
            "_model_module_version": "1.2.0",
            "_view_count": null,
            "flex_flow": null,
            "width": null,
            "min_width": null,
            "border": null,
            "align_items": null,
            "bottom": null,
            "_model_module": "@jupyter-widgets/base",
            "top": null,
            "grid_column": null,
            "overflow_y": null,
            "overflow_x": null,
            "grid_auto_flow": null,
            "grid_area": null,
            "grid_template_columns": null,
            "flex": null,
            "_model_name": "LayoutModel",
            "justify_items": null,
            "grid_row": null,
            "max_height": null,
            "align_content": null,
            "visibility": null,
            "align_self": null,
            "height": null,
            "min_height": null,
            "padding": null,
            "grid_auto_rows": null,
            "grid_gap": null,
            "max_width": null,
            "order": null,
            "_view_module_version": "1.2.0",
            "grid_template_areas": null,
            "object_position": null,
            "object_fit": null,
            "grid_auto_columns": null,
            "margin": null,
            "display": null,
            "left": null
          }
        },
        "1705eef402a545d1b455fe2cc44164d6": {
          "model_module": "@jupyter-widgets/controls",
          "model_name": "DescriptionStyleModel",
          "state": {
            "_view_name": "StyleView",
            "_model_name": "DescriptionStyleModel",
            "description_width": "",
            "_view_module": "@jupyter-widgets/base",
            "_model_module_version": "1.5.0",
            "_view_count": null,
            "_view_module_version": "1.2.0",
            "_model_module": "@jupyter-widgets/controls"
          }
        },
        "5ccb0fe3cfad45e2a0c4c5775a009a3b": {
          "model_module": "@jupyter-widgets/base",
          "model_name": "LayoutModel",
          "state": {
            "_view_name": "LayoutView",
            "grid_template_rows": null,
            "right": null,
            "justify_content": null,
            "_view_module": "@jupyter-widgets/base",
            "overflow": null,
            "_model_module_version": "1.2.0",
            "_view_count": null,
            "flex_flow": null,
            "width": null,
            "min_width": null,
            "border": null,
            "align_items": null,
            "bottom": null,
            "_model_module": "@jupyter-widgets/base",
            "top": null,
            "grid_column": null,
            "overflow_y": null,
            "overflow_x": null,
            "grid_auto_flow": null,
            "grid_area": null,
            "grid_template_columns": null,
            "flex": null,
            "_model_name": "LayoutModel",
            "justify_items": null,
            "grid_row": null,
            "max_height": null,
            "align_content": null,
            "visibility": null,
            "align_self": null,
            "height": null,
            "min_height": null,
            "padding": null,
            "grid_auto_rows": null,
            "grid_gap": null,
            "max_width": null,
            "order": null,
            "_view_module_version": "1.2.0",
            "grid_template_areas": null,
            "object_position": null,
            "object_fit": null,
            "grid_auto_columns": null,
            "margin": null,
            "display": null,
            "left": null
          }
        }
      }
    }
  },
  "cells": [
    {
      "cell_type": "code",
      "metadata": {
        "id": "TvfoEDQa4meL"
      },
      "source": [
        "import random\n",
        "import torch\n",
        "import torchvision\n",
        "import torch.nn as nn\n",
        "from torch.utils.data import Dataset\n",
        "import torchvision.transforms as transforms\n",
        "import matplotlib.pyplot as plt"
      ],
      "execution_count": null,
      "outputs": []
    },
    {
      "cell_type": "code",
      "metadata": {
        "id": "EMfJfVOt5Kla"
      },
      "source": [
        "device = torch.device('cuda' if torch.cuda.is_available() else 'cpu')\n",
        "\n",
        "# Adjust Model Structure Depends on the Data\n",
        "num_classes = 2 # label 0~9: total 10 classes\n",
        "in_channel = 1 # black and white images: 1 channel (RGB: 3 channels)\n",
        "\n",
        "# Hyper-parameters\n",
        "batch_size = 100\n",
        "max_pool_kernel = 2\n",
        "learning_rate = 0.0001\n",
        "num_epochs = 3"
      ],
      "execution_count": null,
      "outputs": []
    },
    {
      "cell_type": "code",
      "metadata": {
        "id": "41jh0fmO4op8"
      },
      "source": [
        "###Python Random Seed 고정###\n",
        "\n",
        "SEED = 1234 # 원하는 seed값을 사용하시면 됩니다.\n",
        "\n",
        "random.seed(SEED) # python에서 random 한 부분을 해당 seed값으로 고정합니다.\n",
        "torch.manual_seed(SEED) # torch에서 random한 부분을 해당 seed값으로 고정합니다.\n",
        "torch.cuda.manual_seed(SEED) # torch의 cuda연산에서 random한 부분을 해당 seed값으로 고정합니다.\n",
        "\n",
        "class TypeData(Dataset):\n",
        "  '''\n",
        "### Digit일 경우 label로 0을, ###\n",
        "### Letter일 경우 label로 1을 ###\n",
        "### return하는 class입니다. ###\n",
        "사용 예시:\n",
        "train_data = TypeData(train=True)\n",
        "test_data = TypeData(train=False)\n",
        "  '''\n",
        "  def __init__(self,train):\n",
        "    super(TypeData, self).__init__()\n",
        "    self.digit = 10\n",
        "    self.letter = 46\n",
        "    self.train = train\n",
        "\n",
        "    self.data = torchvision.datasets.EMNIST(root='./',\n",
        "                                        split='bymerge',\n",
        "                                        train=self.train,\n",
        "                                        transform=transforms.ToTensor(),\n",
        "                                        download=True)\n",
        "\n",
        "  def __getitem__(self, index):\n",
        "    if self.data[index][1] < self.digit:\n",
        "      label = 0.\n",
        "    else:\n",
        "      label = 1.\n",
        "    return self.data[index][0], label\n",
        "\n",
        "  def __len__(self):\n",
        "    return len(self.data)\n",
        "\n",
        "  # nn.CrossEntropyLoss()를 사용하는 경우, train 코드에서\n",
        "  # labels = labels.to(device, dtype=long) 또는,\n",
        "  # labels = labels.to(device).long() 과 같은 방법으로 data type을 변경하여 사용해 보세요.\n",
        "\n",
        "### train 또는 test dataset에 대하여, num의 수만큼 subplot을 보여주는 함수입니다.\n",
        "def image_show(dataset, num):\n",
        "  fig = plt.figure(figsize=(30,30))\n",
        "\n",
        "  for i in range(num):\n",
        "    plt.subplot(1, num, i+1)\n",
        "    plt.imshow(dataset[i][0].squeeze())\n",
        "    plt.title(dataset[i][1])"
      ],
      "execution_count": null,
      "outputs": []
    },
    {
      "cell_type": "code",
      "metadata": {
        "id": "n7v6EzwF6AGv",
        "colab": {
          "base_uri": "https://localhost:8080/",
          "height": 285,
          "referenced_widgets": [
            "73b75db76a9049f5b6bde0eb3b0116a6",
            "e20513f44c054c3d9e5dee03e694493b",
            "cebd96b4dd74440ca6a609df19b937a5",
            "2c863d217ea6424abf0d8d1be50fb90a",
            "c93abf1d1ea54ef1afcf0c914a492e8f",
            "ca8cbe8da9c349169262763f9a3c36fc",
            "1705eef402a545d1b455fe2cc44164d6",
            "5ccb0fe3cfad45e2a0c4c5775a009a3b"
          ]
        },
        "outputId": "ff9d1688-9e6d-49af-d1d2-7535a790b54e"
      },
      "source": [
        "train_loader = torch.utils.data.DataLoader(dataset=TypeData(train=True),\n",
        "                                           batch_size=batch_size,\n",
        "                                           shuffle=True)\n",
        "test_loader = torch.utils.data.DataLoader(dataset=TypeData(train=False),\n",
        "                                           batch_size=batch_size,\n",
        "                                           shuffle=True)"
      ],
      "execution_count": null,
      "outputs": [
        {
          "output_type": "stream",
          "text": [
            "Downloading and extracting zip archive\n",
            "Downloading http://www.itl.nist.gov/iaui/vip/cs_links/EMNIST/gzip.zip to ./EMNIST/raw/emnist.zip\n"
          ],
          "name": "stdout"
        },
        {
          "output_type": "display_data",
          "data": {
            "application/vnd.jupyter.widget-view+json": {
              "model_id": "73b75db76a9049f5b6bde0eb3b0116a6",
              "version_minor": 0,
              "version_major": 2
            },
            "text/plain": [
              "HBox(children=(FloatProgress(value=1.0, bar_style='info', max=1.0), HTML(value='')))"
            ]
          },
          "metadata": {
            "tags": []
          }
        },
        {
          "output_type": "stream",
          "text": [
            "Extracting ./EMNIST/raw/emnist.zip to ./EMNIST/raw\n",
            "Processing byclass\n"
          ],
          "name": "stdout"
        },
        {
          "output_type": "stream",
          "text": [
            "/usr/local/lib/python3.6/dist-packages/torchvision/datasets/mnist.py:480: UserWarning: The given NumPy array is not writeable, and PyTorch does not support non-writeable tensors. This means you can write to the underlying (supposedly non-writeable) NumPy array using the tensor. You may want to copy the array to protect its data or make it writeable before converting it to a tensor. This type of warning will be suppressed for the rest of this program. (Triggered internally at  /pytorch/torch/csrc/utils/tensor_numpy.cpp:141.)\n",
            "  return torch.from_numpy(parsed.astype(m[2], copy=False)).view(*s)\n"
          ],
          "name": "stderr"
        },
        {
          "output_type": "stream",
          "text": [
            "Processing bymerge\n",
            "Processing balanced\n",
            "Processing letters\n",
            "Processing digits\n",
            "Processing mnist\n",
            "Done!\n"
          ],
          "name": "stdout"
        }
      ]
    },
    {
      "cell_type": "code",
      "metadata": {
        "id": "zpQ_lgyK4ro7"
      },
      "source": [
        "import torch.nn.functional as F\n",
        "import torchsummary as summary #optional, to see model's summary\n",
        "\n",
        "class ConvNet(nn.Module):\n",
        "  def __init__(self, num_classes=1):\n",
        "    super(ConvNet, self).__init__()\n",
        "    self.layer1 = nn.Sequential(\n",
        "        nn.Conv2d(in_channel, 10, 3, stride=1, padding=1),\n",
        "        nn.BatchNorm2d(10),\n",
        "        nn.ReLU(),\n",
        "        nn.MaxPool2d(max_pool_kernel)\n",
        "    )\n",
        "    self.layer2 = nn.Sequential(\n",
        "        nn.Conv2d(10, 100, 3, stride=1, padding=1),\n",
        "        nn.BatchNorm2d(100),\n",
        "        nn.ReLU(),\n",
        "        nn.MaxPool2d(max_pool_kernel)\n",
        "    )\n",
        "    self.fc1 = nn.Linear(7*7*100, 512)\n",
        "    self.fc2 = nn.Linear(512,128)\n",
        "    self.fc3 = nn.Linear(128,32)\n",
        "    self.fc4 = nn.Linear(32,num_classes)\n",
        "\n",
        "  def forward(self, x):\n",
        "    x = self.layer1(x)\n",
        "    x = self.layer2(x)\n",
        "    x = x.reshape(x.size(0),-1)\n",
        "    x = torch.relu(self.fc1(x))\n",
        "    x = torch.relu(self.fc2(x))\n",
        "    x = F.dropout(x,p=0.2)\n",
        "    x = torch.relu(self.fc3(x))\n",
        "    x = torch.sigmoid(self.fc4(x))\n",
        "    return x\n",
        "model = ConvNet(num_classes).to(device)"
      ],
      "execution_count": null,
      "outputs": []
    },
    {
      "cell_type": "code",
      "metadata": {
        "id": "OtLxMJO__VQc",
        "colab": {
          "base_uri": "https://localhost:8080/"
        },
        "outputId": "3cebe76d-df96-414e-a219-3e5bb2d2c9e8"
      },
      "source": [
        "criterion = nn.CrossEntropyLoss()\n",
        "optimizer = torch.optim.Adam(model.parameters(), lr = learning_rate)\n",
        "# cf) see network form\n",
        "print(model)\n",
        "\n",
        "# cf) check the number of parameters\n",
        "print('{:=^60}'.format(\"=\"))\n",
        "print('{:^60}'.format(\"model summary\"))\n",
        "print('{:=^60}'.format(\"=\"))\n",
        "for param_tensor in model.state_dict():\n",
        "  print('%-30s'%param_tensor, '{:^30}'.format(str(model.state_dict()[param_tensor].size())))\n",
        "print('{:=^60}'.format(\"=\"))\n"
      ],
      "execution_count": null,
      "outputs": [
        {
          "output_type": "stream",
          "text": [
            "ConvNet(\n",
            "  (layer1): Sequential(\n",
            "    (0): Conv2d(1, 10, kernel_size=(3, 3), stride=(1, 1), padding=(1, 1))\n",
            "    (1): BatchNorm2d(10, eps=1e-05, momentum=0.1, affine=True, track_running_stats=True)\n",
            "    (2): ReLU()\n",
            "    (3): MaxPool2d(kernel_size=2, stride=2, padding=0, dilation=1, ceil_mode=False)\n",
            "  )\n",
            "  (layer2): Sequential(\n",
            "    (0): Conv2d(10, 100, kernel_size=(3, 3), stride=(1, 1), padding=(1, 1))\n",
            "    (1): BatchNorm2d(100, eps=1e-05, momentum=0.1, affine=True, track_running_stats=True)\n",
            "    (2): ReLU()\n",
            "    (3): MaxPool2d(kernel_size=2, stride=2, padding=0, dilation=1, ceil_mode=False)\n",
            "  )\n",
            "  (fc1): Linear(in_features=4900, out_features=512, bias=True)\n",
            "  (fc2): Linear(in_features=512, out_features=128, bias=True)\n",
            "  (fc3): Linear(in_features=128, out_features=32, bias=True)\n",
            "  (fc4): Linear(in_features=32, out_features=2, bias=True)\n",
            ")\n",
            "============================================================\n",
            "                       model summary                        \n",
            "============================================================\n",
            "layer1.0.weight                  torch.Size([10, 1, 3, 3])   \n",
            "layer1.0.bias                         torch.Size([10])       \n",
            "layer1.1.weight                       torch.Size([10])       \n",
            "layer1.1.bias                         torch.Size([10])       \n",
            "layer1.1.running_mean                 torch.Size([10])       \n",
            "layer1.1.running_var                  torch.Size([10])       \n",
            "layer1.1.num_batches_tracked           torch.Size([])        \n",
            "layer2.0.weight                 torch.Size([100, 10, 3, 3])  \n",
            "layer2.0.bias                        torch.Size([100])       \n",
            "layer2.1.weight                      torch.Size([100])       \n",
            "layer2.1.bias                        torch.Size([100])       \n",
            "layer2.1.running_mean                torch.Size([100])       \n",
            "layer2.1.running_var                 torch.Size([100])       \n",
            "layer2.1.num_batches_tracked           torch.Size([])        \n",
            "fc1.weight                        torch.Size([512, 4900])    \n",
            "fc1.bias                             torch.Size([512])       \n",
            "fc2.weight                         torch.Size([128, 512])    \n",
            "fc2.bias                             torch.Size([128])       \n",
            "fc3.weight                         torch.Size([32, 128])     \n",
            "fc3.bias                              torch.Size([32])       \n",
            "fc4.weight                          torch.Size([2, 32])      \n",
            "fc4.bias                              torch.Size([2])        \n",
            "============================================================\n"
          ],
          "name": "stdout"
        }
      ]
    },
    {
      "cell_type": "code",
      "metadata": {
        "id": "Pfzhpb3O5gd2",
        "colab": {
          "base_uri": "https://localhost:8080/"
        },
        "outputId": "dcd974e0-ff93-4118-9b93-0ce9ad2e5481"
      },
      "source": [
        "total_step = len(train_loader)\n",
        "loss_list = []\n",
        "\n",
        "# Train\n",
        "for epoch in range(num_epochs):\n",
        "  for i, (images, labels) in enumerate(train_loader):\n",
        "    # Assign Tensors to Configured Device\n",
        "    images = images.to(device)\n",
        "    labels = labels.to(device).long()\n",
        "\n",
        "    # Forward Propagation\n",
        "    outputs = model(images)\n",
        "    \n",
        "    # Get Loss, Compute Gradient, Update Parameters\n",
        "    loss = criterion(outputs,labels)\n",
        "    optimizer.zero_grad()\n",
        "    loss.backward()\n",
        "    optimizer.step()\n",
        "\n",
        "    # Append loss to plot graph\n",
        "    loss_list.append(loss)\n",
        "\n",
        "    # Print Loss for Tracking Training\n",
        "\n",
        "    if (i+1) % 1000 == 0:\n",
        "      print(\"Epoch [{}/{}], Step[{}/{}], Loss:{:.4f}\".format(epoch+1, num_epochs, i+1, total_step, loss.item()))\n",
        "\n",
        "  if epoch+1 == num_epochs:\n",
        "    torch.save(model.state_dict(), '20151600_model1.pth')\n",
        "  else:\n",
        "    torch.save(model.state_dict(), 'model-{:02d}_epochs.pth'.format(epoch+1))"
      ],
      "execution_count": null,
      "outputs": [
        {
          "output_type": "stream",
          "text": [
            "Epoch [1/3], Step[1000/6980], Loss:0.4756\n",
            "Epoch [1/3], Step[2000/6980], Loss:0.4457\n",
            "Epoch [1/3], Step[3000/6980], Loss:0.4164\n",
            "Epoch [1/3], Step[4000/6980], Loss:0.4123\n",
            "Epoch [1/3], Step[5000/6980], Loss:0.3958\n",
            "Epoch [1/3], Step[6000/6980], Loss:0.4013\n",
            "Epoch [2/3], Step[1000/6980], Loss:0.4416\n",
            "Epoch [2/3], Step[2000/6980], Loss:0.4081\n",
            "Epoch [2/3], Step[3000/6980], Loss:0.4160\n",
            "Epoch [2/3], Step[4000/6980], Loss:0.3905\n",
            "Epoch [2/3], Step[5000/6980], Loss:0.3575\n",
            "Epoch [2/3], Step[6000/6980], Loss:0.4098\n",
            "Epoch [3/3], Step[1000/6980], Loss:0.4280\n",
            "Epoch [3/3], Step[2000/6980], Loss:0.3764\n",
            "Epoch [3/3], Step[3000/6980], Loss:0.3489\n",
            "Epoch [3/3], Step[4000/6980], Loss:0.4037\n",
            "Epoch [3/3], Step[5000/6980], Loss:0.4263\n",
            "Epoch [3/3], Step[6000/6980], Loss:0.3671\n"
          ],
          "name": "stdout"
        }
      ]
    },
    {
      "cell_type": "code",
      "metadata": {
        "colab": {
          "base_uri": "https://localhost:8080/",
          "height": 281
        },
        "id": "_o_NGUSLDC_W",
        "outputId": "21b63d2b-d5b4-445e-e076-2d62657afa7a"
      },
      "source": [
        "import matplotlib.pyplot as plt\n",
        "plt.plot(loss_list)\n",
        "plt.title(\"EMNIST CNN loss example\")\n",
        "plt.show()"
      ],
      "execution_count": null,
      "outputs": [
        {
          "output_type": "display_data",
          "data": {
            "image/png": "[encoded data removed]",
            "text/plain": [
              "<Figure size 432x288 with 1 Axes>"
            ]
          },
          "metadata": {
            "tags": [],
            "needs_background": "light"
          }
        }
      ]
    },
    {
      "cell_type": "code",
      "metadata": {
        "colab": {
          "base_uri": "https://localhost:8080/"
        },
        "id": "LSnMXzNU8v09",
        "outputId": "5024b367-5bc0-4f69-df62-2044b6e5d122"
      },
      "source": [
        "test_model = ConvNet(num_classes)\n",
        "test_model.load_state_dict(torch.load(\"20151600_model1.pth\"))\n",
        "\n",
        "with torch.no_grad(): # auto_grad off\n",
        "  correct = 0\n",
        "  total = 0\n",
        "  for images, labels in test_loader:\n",
        "    images = images.to(device)\n",
        "    labels = labels.to(device)\n",
        "    outputs = model(images)\n",
        "    _, predicted = torch.max(outputs.data, 1)\n",
        "\n",
        "    total += labels.size(0)\n",
        "    correct += (predicted == labels).sum().item()\n",
        "\n",
        "  print('Accuracy of the network on the {} test images {}%'.format(len(test_loader)*batch_size, 100*correct/total))"
      ],
      "execution_count": null,
      "outputs": [
        {
          "output_type": "stream",
          "text": [
            "Accuracy of the network on the 116400 test images 91.47116219492275%\n"
          ],
          "name": "stdout"
        }
      ]
    }
  ]
}