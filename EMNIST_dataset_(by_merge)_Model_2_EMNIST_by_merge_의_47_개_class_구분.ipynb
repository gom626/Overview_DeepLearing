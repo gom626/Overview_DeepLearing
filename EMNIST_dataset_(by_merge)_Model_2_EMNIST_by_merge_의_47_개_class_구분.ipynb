{
  "nbformat": 4,
  "nbformat_minor": 0,
  "metadata": {
    "accelerator": "GPU",
    "colab": {
      "name": "EMNIST dataset (by merge) - Model 2 EMNIST by merge 의 47 개 class 구분.ipynb",
      "provenance": [],
      "collapsed_sections": []
    },
    "kernelspec": {
      "display_name": "Python 3",
      "name": "python3"
    },
    "widgets": {
      "application/vnd.jupyter.widget-state+json": {
        "075d7339b89b4de6833e0b9a433aadc1": {
          "model_module": "@jupyter-widgets/controls",
          "model_name": "HBoxModel",
          "state": {
            "_view_name": "HBoxView",
            "_dom_classes": [],
            "_model_name": "HBoxModel",
            "_view_module": "@jupyter-widgets/controls",
            "_model_module_version": "1.5.0",
            "_view_count": null,
            "_view_module_version": "1.5.0",
            "box_style": "",
            "layout": "IPY_MODEL_fa28e8044ca94691ba3d83bbac2953f9",
            "_model_module": "@jupyter-widgets/controls",
            "children": [
              "IPY_MODEL_d16cd79c71484b6ea3b3cec2504c3d6d",
              "IPY_MODEL_e69d8b99f7c84591890ef750a2c72ef2"
            ]
          }
        },
        "fa28e8044ca94691ba3d83bbac2953f9": {
          "model_module": "@jupyter-widgets/base",
          "model_name": "LayoutModel",
          "state": {
            "_view_name": "LayoutView",
            "grid_template_rows": null,
            "right": null,
            "justify_content": null,
            "_view_module": "@jupyter-widgets/base",
            "overflow": null,
            "_model_module_version": "1.2.0",
            "_view_count": null,
            "flex_flow": null,
            "width": null,
            "min_width": null,
            "border": null,
            "align_items": null,
            "bottom": null,
            "_model_module": "@jupyter-widgets/base",
            "top": null,
            "grid_column": null,
            "overflow_y": null,
            "overflow_x": null,
            "grid_auto_flow": null,
            "grid_area": null,
            "grid_template_columns": null,
            "flex": null,
            "_model_name": "LayoutModel",
            "justify_items": null,
            "grid_row": null,
            "max_height": null,
            "align_content": null,
            "visibility": null,
            "align_self": null,
            "height": null,
            "min_height": null,
            "padding": null,
            "grid_auto_rows": null,
            "grid_gap": null,
            "max_width": null,
            "order": null,
            "_view_module_version": "1.2.0",
            "grid_template_areas": null,
            "object_position": null,
            "object_fit": null,
            "grid_auto_columns": null,
            "margin": null,
            "display": null,
            "left": null
          }
        },
        "d16cd79c71484b6ea3b3cec2504c3d6d": {
          "model_module": "@jupyter-widgets/controls",
          "model_name": "FloatProgressModel",
          "state": {
            "_view_name": "ProgressView",
            "style": "IPY_MODEL_ceebdc88dd244c2392980bb74e484a49",
            "_dom_classes": [],
            "description": "",
            "_model_name": "FloatProgressModel",
            "bar_style": "info",
            "max": 1,
            "_view_module": "@jupyter-widgets/controls",
            "_model_module_version": "1.5.0",
            "value": 1,
            "_view_count": null,
            "_view_module_version": "1.5.0",
            "orientation": "horizontal",
            "min": 0,
            "description_tooltip": null,
            "_model_module": "@jupyter-widgets/controls",
            "layout": "IPY_MODEL_8e85fe7b970542c0a33e7c69a085eed8"
          }
        },
        "e69d8b99f7c84591890ef750a2c72ef2": {
          "model_module": "@jupyter-widgets/controls",
          "model_name": "HTMLModel",
          "state": {
            "_view_name": "HTMLView",
            "style": "IPY_MODEL_6461e15e30cf4a41b7a5ca1027bc458a",
            "_dom_classes": [],
            "description": "",
            "_model_name": "HTMLModel",
            "placeholder": "​",
            "_view_module": "@jupyter-widgets/controls",
            "_model_module_version": "1.5.0",
            "value": " 561758208/? [00:20&lt;00:00, 60406346.83it/s]",
            "_view_count": null,
            "_view_module_version": "1.5.0",
            "description_tooltip": null,
            "_model_module": "@jupyter-widgets/controls",
            "layout": "IPY_MODEL_dde1af59372744b8936b5c9f8d96264e"
          }
        },
        "ceebdc88dd244c2392980bb74e484a49": {
          "model_module": "@jupyter-widgets/controls",
          "model_name": "ProgressStyleModel",
          "state": {
            "_view_name": "StyleView",
            "_model_name": "ProgressStyleModel",
            "description_width": "initial",
            "_view_module": "@jupyter-widgets/base",
            "_model_module_version": "1.5.0",
            "_view_count": null,
            "_view_module_version": "1.2.0",
            "bar_color": null,
            "_model_module": "@jupyter-widgets/controls"
          }
        },
        "8e85fe7b970542c0a33e7c69a085eed8": {
          "model_module": "@jupyter-widgets/base",
          "model_name": "LayoutModel",
          "state": {
            "_view_name": "LayoutView",
            "grid_template_rows": null,
            "right": null,
            "justify_content": null,
            "_view_module": "@jupyter-widgets/base",
            "overflow": null,
            "_model_module_version": "1.2.0",
            "_view_count": null,
            "flex_flow": null,
            "width": null,
            "min_width": null,
            "border": null,
            "align_items": null,
            "bottom": null,
            "_model_module": "@jupyter-widgets/base",
            "top": null,
            "grid_column": null,
            "overflow_y": null,
            "overflow_x": null,
            "grid_auto_flow": null,
            "grid_area": null,
            "grid_template_columns": null,
            "flex": null,
            "_model_name": "LayoutModel",
            "justify_items": null,
            "grid_row": null,
            "max_height": null,
            "align_content": null,
            "visibility": null,
            "align_self": null,
            "height": null,
            "min_height": null,
            "padding": null,
            "grid_auto_rows": null,
            "grid_gap": null,
            "max_width": null,
            "order": null,
            "_view_module_version": "1.2.0",
            "grid_template_areas": null,
            "object_position": null,
            "object_fit": null,
            "grid_auto_columns": null,
            "margin": null,
            "display": null,
            "left": null
          }
        },
        "6461e15e30cf4a41b7a5ca1027bc458a": {
          "model_module": "@jupyter-widgets/controls",
          "model_name": "DescriptionStyleModel",
          "state": {
            "_view_name": "StyleView",
            "_model_name": "DescriptionStyleModel",
            "description_width": "",
            "_view_module": "@jupyter-widgets/base",
            "_model_module_version": "1.5.0",
            "_view_count": null,
            "_view_module_version": "1.2.0",
            "_model_module": "@jupyter-widgets/controls"
          }
        },
        "dde1af59372744b8936b5c9f8d96264e": {
          "model_module": "@jupyter-widgets/base",
          "model_name": "LayoutModel",
          "state": {
            "_view_name": "LayoutView",
            "grid_template_rows": null,
            "right": null,
            "justify_content": null,
            "_view_module": "@jupyter-widgets/base",
            "overflow": null,
            "_model_module_version": "1.2.0",
            "_view_count": null,
            "flex_flow": null,
            "width": null,
            "min_width": null,
            "border": null,
            "align_items": null,
            "bottom": null,
            "_model_module": "@jupyter-widgets/base",
            "top": null,
            "grid_column": null,
            "overflow_y": null,
            "overflow_x": null,
            "grid_auto_flow": null,
            "grid_area": null,
            "grid_template_columns": null,
            "flex": null,
            "_model_name": "LayoutModel",
            "justify_items": null,
            "grid_row": null,
            "max_height": null,
            "align_content": null,
            "visibility": null,
            "align_self": null,
            "height": null,
            "min_height": null,
            "padding": null,
            "grid_auto_rows": null,
            "grid_gap": null,
            "max_width": null,
            "order": null,
            "_view_module_version": "1.2.0",
            "grid_template_areas": null,
            "object_position": null,
            "object_fit": null,
            "grid_auto_columns": null,
            "margin": null,
            "display": null,
            "left": null
          }
        }
      }
    }
  },
  "cells": [
    {
      "cell_type": "code",
      "metadata": {
        "id": "c_eQUfFjNf1p"
      },
      "source": [
        "import random\n",
        "import torch\n",
        "import torchvision\n",
        "import torch.nn as nn\n",
        "from torch.utils.data import Dataset\n",
        "import torchvision.transforms as transforms\n",
        "import matplotlib.pyplot as plt"
      ],
      "execution_count": null,
      "outputs": []
    },
    {
      "cell_type": "code",
      "metadata": {
        "id": "b0zgXx8_Tjmf"
      },
      "source": [
        "device = torch.device('cuda' if torch.cuda.is_available() else 'cpu')\n",
        "\n",
        "# Adjust Model Structure Depends on the Data\n",
        "num_classes = 47 # label 0~9: total 10 classes\n",
        "in_channel = 1 # black and white images: 1 channel (RGB: 3 channels)\n",
        "\n",
        "# Hyper-parameters\n",
        "batch_size = 100\n",
        "max_pool_kernel = 2\n",
        "learning_rate = 0.0001\n",
        "num_epochs = 3"
      ],
      "execution_count": null,
      "outputs": []
    },
    {
      "cell_type": "code",
      "metadata": {
        "id": "NmfduCY3NjcV",
        "colab": {
          "base_uri": "https://localhost:8080/",
          "height": 285,
          "referenced_widgets": [
            "075d7339b89b4de6833e0b9a433aadc1",
            "fa28e8044ca94691ba3d83bbac2953f9",
            "d16cd79c71484b6ea3b3cec2504c3d6d",
            "e69d8b99f7c84591890ef750a2c72ef2",
            "ceebdc88dd244c2392980bb74e484a49",
            "8e85fe7b970542c0a33e7c69a085eed8",
            "6461e15e30cf4a41b7a5ca1027bc458a",
            "dde1af59372744b8936b5c9f8d96264e"
          ]
        },
        "outputId": "282ea137-0331-4f31-f6eb-0a6307a75e50"
      },
      "source": [
        "train_data = torchvision.datasets.EMNIST(root='./EMNST',split='bymerge', train=True, download=True, transform=transforms.ToTensor()) \n",
        "test_data = torchvision.datasets.EMNIST(root='./EMNST',split='bymerge', train=False, download=True, transform=transforms.ToTensor())\n",
        "\n",
        "train_loader = torch.utils.data.DataLoader(dataset=train_data,\n",
        "                                           batch_size=batch_size,\n",
        "                                           shuffle=True)\n",
        "test_loader = torch.utils.data.DataLoader(dataset=test_data,\n",
        "                                           batch_size=batch_size,\n",
        "                                           shuffle=True)"
      ],
      "execution_count": null,
      "outputs": [
        {
          "output_type": "stream",
          "text": [
            "Downloading and extracting zip archive\n",
            "Downloading http://www.itl.nist.gov/iaui/vip/cs_links/EMNIST/gzip.zip to ./EMNST/EMNIST/raw/emnist.zip\n"
          ],
          "name": "stdout"
        },
        {
          "output_type": "display_data",
          "data": {
            "application/vnd.jupyter.widget-view+json": {
              "model_id": "075d7339b89b4de6833e0b9a433aadc1",
              "version_minor": 0,
              "version_major": 2
            },
            "text/plain": [
              "HBox(children=(FloatProgress(value=1.0, bar_style='info', max=1.0), HTML(value='')))"
            ]
          },
          "metadata": {
            "tags": []
          }
        },
        {
          "output_type": "stream",
          "text": [
            "Extracting ./EMNST/EMNIST/raw/emnist.zip to ./EMNST/EMNIST/raw\n",
            "Processing byclass\n"
          ],
          "name": "stdout"
        },
        {
          "output_type": "stream",
          "text": [
            "/usr/local/lib/python3.6/dist-packages/torchvision/datasets/mnist.py:480: UserWarning: The given NumPy array is not writeable, and PyTorch does not support non-writeable tensors. This means you can write to the underlying (supposedly non-writeable) NumPy array using the tensor. You may want to copy the array to protect its data or make it writeable before converting it to a tensor. This type of warning will be suppressed for the rest of this program. (Triggered internally at  /pytorch/torch/csrc/utils/tensor_numpy.cpp:141.)\n",
            "  return torch.from_numpy(parsed.astype(m[2], copy=False)).view(*s)\n"
          ],
          "name": "stderr"
        },
        {
          "output_type": "stream",
          "text": [
            "Processing bymerge\n",
            "Processing balanced\n",
            "Processing letters\n",
            "Processing digits\n",
            "Processing mnist\n",
            "Done!\n"
          ],
          "name": "stdout"
        }
      ]
    },
    {
      "cell_type": "code",
      "metadata": {
        "id": "OQTF-oasRxqU"
      },
      "source": [
        "import torch.nn.functional as F\n",
        "import torchsummary as summary #optional, to see model's summary\n",
        "class ConvNet(nn.Module):\n",
        "  def __init__(self, num_classes=47):\n",
        "    super(ConvNet, self).__init__()\n",
        "    self.layer1 = nn.Sequential(\n",
        "        nn.Conv2d(in_channel, 10, 3, stride=1,padding=1),\n",
        "        nn.BatchNorm2d(10),\n",
        "        nn.ReLU(),\n",
        "        nn.MaxPool2d(max_pool_kernel)\n",
        "    )\n",
        "    self.layer2 = nn.Sequential(\n",
        "        nn.Conv2d(10, 100, 3 , stride=1, padding=1),\n",
        "        nn.BatchNorm2d(100),\n",
        "        nn.ReLU(),\n",
        "        nn.MaxPool2d(max_pool_kernel)\n",
        "    )\n",
        "    self.fc1 = nn.Linear(7*7*100, 512)\n",
        "    self.fc2 = nn.Linear(512, 128)\n",
        "    self.fc3 = nn.Linear(128, 64)\n",
        "    self.fc4 = nn.Linear(64, num_classes)\n",
        "\n",
        "  def forward(self, x):\n",
        "    x = self.layer1(x)\n",
        "    x = self.layer2(x)\n",
        "    x = x.reshape(x.size(0),-1)\n",
        "    x=F.dropout(x)\n",
        "    x = F.relu(self.fc1(x))\n",
        "    x = F.relu(self.fc2(x))\n",
        "    x = F.relu(self.fc3(x))\n",
        "    x = torch.sigmoid(self.fc4(x))\n",
        "    return x"
      ],
      "execution_count": null,
      "outputs": []
    },
    {
      "cell_type": "code",
      "metadata": {
        "id": "7J6yRpsLBObG"
      },
      "source": [
        "model = ConvNet(num_classes).to(device)"
      ],
      "execution_count": null,
      "outputs": []
    },
    {
      "cell_type": "code",
      "metadata": {
        "colab": {
          "base_uri": "https://localhost:8080/"
        },
        "id": "ry2SShW4BVKv",
        "outputId": "21e716f0-dc51-44c5-edbb-90a88d254a3b"
      },
      "source": [
        "# cf) see network form\n",
        "print(model)\n",
        "\n",
        "# cf) check the number of parameters\n",
        "print('{:=^60}'.format(\"=\"))\n",
        "print('{:^60}'.format(\"model summary\"))\n",
        "print('{:=^60}'.format(\"=\"))\n",
        "for param_tensor in model.state_dict():\n",
        "  print('%-30s'%param_tensor, '{:^30}'.format(str(model.state_dict()[param_tensor].size())))\n",
        "print('{:=^60}'.format(\"=\"))"
      ],
      "execution_count": null,
      "outputs": [
        {
          "output_type": "stream",
          "text": [
            "ConvNet(\n",
            "  (layer1): Sequential(\n",
            "    (0): Conv2d(1, 10, kernel_size=(3, 3), stride=(1, 1), padding=(1, 1))\n",
            "    (1): BatchNorm2d(10, eps=1e-05, momentum=0.1, affine=True, track_running_stats=True)\n",
            "    (2): ReLU()\n",
            "    (3): MaxPool2d(kernel_size=2, stride=2, padding=0, dilation=1, ceil_mode=False)\n",
            "  )\n",
            "  (layer2): Sequential(\n",
            "    (0): Conv2d(10, 100, kernel_size=(3, 3), stride=(1, 1), padding=(1, 1))\n",
            "    (1): BatchNorm2d(100, eps=1e-05, momentum=0.1, affine=True, track_running_stats=True)\n",
            "    (2): ReLU()\n",
            "    (3): MaxPool2d(kernel_size=2, stride=2, padding=0, dilation=1, ceil_mode=False)\n",
            "  )\n",
            "  (fc1): Linear(in_features=4900, out_features=512, bias=True)\n",
            "  (fc2): Linear(in_features=512, out_features=128, bias=True)\n",
            "  (fc3): Linear(in_features=128, out_features=64, bias=True)\n",
            "  (fc4): Linear(in_features=64, out_features=47, bias=True)\n",
            ")\n",
            "============================================================\n",
            "                       model summary                        \n",
            "============================================================\n",
            "layer1.0.weight                  torch.Size([10, 1, 3, 3])   \n",
            "layer1.0.bias                         torch.Size([10])       \n",
            "layer1.1.weight                       torch.Size([10])       \n",
            "layer1.1.bias                         torch.Size([10])       \n",
            "layer1.1.running_mean                 torch.Size([10])       \n",
            "layer1.1.running_var                  torch.Size([10])       \n",
            "layer1.1.num_batches_tracked           torch.Size([])        \n",
            "layer2.0.weight                 torch.Size([100, 10, 3, 3])  \n",
            "layer2.0.bias                        torch.Size([100])       \n",
            "layer2.1.weight                      torch.Size([100])       \n",
            "layer2.1.bias                        torch.Size([100])       \n",
            "layer2.1.running_mean                torch.Size([100])       \n",
            "layer2.1.running_var                 torch.Size([100])       \n",
            "layer2.1.num_batches_tracked           torch.Size([])        \n",
            "fc1.weight                        torch.Size([512, 4900])    \n",
            "fc1.bias                             torch.Size([512])       \n",
            "fc2.weight                         torch.Size([128, 512])    \n",
            "fc2.bias                             torch.Size([128])       \n",
            "fc3.weight                         torch.Size([64, 128])     \n",
            "fc3.bias                              torch.Size([64])       \n",
            "fc4.weight                          torch.Size([47, 64])     \n",
            "fc4.bias                              torch.Size([47])       \n",
            "============================================================\n"
          ],
          "name": "stdout"
        }
      ]
    },
    {
      "cell_type": "code",
      "metadata": {
        "id": "rh-PO_BGBlVz"
      },
      "source": [
        "criterion = nn.CrossEntropyLoss()\n",
        "optimizer = torch.optim.Adam(model.parameters(), lr=learning_rate)"
      ],
      "execution_count": null,
      "outputs": []
    },
    {
      "cell_type": "code",
      "metadata": {
        "colab": {
          "base_uri": "https://localhost:8080/"
        },
        "id": "PK1A6znfBoY0",
        "outputId": "94c07655-ba5f-4293-f4fa-fbd3d89b39b1"
      },
      "source": [
        "total_step = len(train_loader)\n",
        "loss_list = []\n",
        "\n",
        "# Train\n",
        "for epoch in range(num_epochs):\n",
        "  for i, (images, labels) in enumerate(train_loader):\n",
        "    # Assign Tensors to Configured Device\n",
        "    images = images.to(device)\n",
        "    labels = labels.to(device).long()\n",
        "\n",
        "    # Forward Propagation\n",
        "    outputs = model(images)\n",
        "    \n",
        "    # Get Loss, Compute Gradient, Update Parameters\n",
        "    loss = criterion(outputs,labels)\n",
        "    optimizer.zero_grad()\n",
        "    loss.backward()\n",
        "    optimizer.step()\n",
        "\n",
        "    # Append loss to plot graph\n",
        "    loss_list.append(loss)\n",
        "\n",
        "    # Print Loss for Tracking Training\n",
        "\n",
        "    if (i+1) % 1000 == 0:\n",
        "      print(\"Epoch [{}/{}], Step[{}/{}], Loss:{:.4f}\".format(epoch+1, num_epochs, i+1, total_step, loss.item()))\n",
        "\n",
        "  if epoch+1 == num_epochs:\n",
        "    torch.save(model.state_dict(), '20151600_model2.pth')\n",
        "  else:\n",
        "    torch.save(model.state_dict(), 'model-{:02d}_epochs.pth'.format(epoch+1))"
      ],
      "execution_count": null,
      "outputs": [
        {
          "output_type": "stream",
          "text": [
            "Epoch [1/3], Step[1000/6980], Loss:3.0725\n",
            "Epoch [1/3], Step[2000/6980], Loss:3.0368\n",
            "Epoch [1/3], Step[3000/6980], Loss:3.0065\n",
            "Epoch [1/3], Step[4000/6980], Loss:3.0003\n",
            "Epoch [1/3], Step[5000/6980], Loss:2.9748\n",
            "Epoch [1/3], Step[6000/6980], Loss:2.9888\n",
            "Epoch [2/3], Step[1000/6980], Loss:2.9968\n",
            "Epoch [2/3], Step[2000/6980], Loss:2.9754\n",
            "Epoch [2/3], Step[3000/6980], Loss:3.0576\n",
            "Epoch [2/3], Step[4000/6980], Loss:3.0118\n",
            "Epoch [2/3], Step[5000/6980], Loss:2.9850\n",
            "Epoch [2/3], Step[6000/6980], Loss:3.0019\n",
            "Epoch [3/3], Step[1000/6980], Loss:2.9888\n",
            "Epoch [3/3], Step[2000/6980], Loss:2.9931\n",
            "Epoch [3/3], Step[3000/6980], Loss:2.9867\n",
            "Epoch [3/3], Step[4000/6980], Loss:2.9762\n",
            "Epoch [3/3], Step[5000/6980], Loss:2.9456\n",
            "Epoch [3/3], Step[6000/6980], Loss:2.9560\n"
          ],
          "name": "stdout"
        }
      ]
    },
    {
      "cell_type": "code",
      "metadata": {
        "colab": {
          "base_uri": "https://localhost:8080/",
          "height": 281
        },
        "id": "d5fcxlD8Bs5C",
        "outputId": "4015cd14-3a19-4bec-bf33-083ced0641e3"
      },
      "source": [
        "import matplotlib.pyplot as plt\n",
        "plt.plot(loss_list)\n",
        "plt.title(\"EMNIST CNN loss example\")\n",
        "plt.show()"
      ],
      "execution_count": null,
      "outputs": [
        {
          "output_type": "display_data",
          "data": {
            "image/png": "[encoded data removed]",
            "text/plain": [
              "<Figure size 432x288 with 1 Axes>"
            ]
          },
          "metadata": {
            "tags": [],
            "needs_background": "light"
          }
        }
      ]
    },
    {
      "cell_type": "code",
      "metadata": {
        "colab": {
          "base_uri": "https://localhost:8080/"
        },
        "id": "HNuoTidcEGGx",
        "outputId": "e07798c2-e49c-4ccb-d82a-94aad9ffccfa"
      },
      "source": [
        "test_model = ConvNet(num_classes)\n",
        "test_model.load_state_dict(torch.load(\"20151600_model2.pth\"))\n",
        "\n",
        "with torch.no_grad(): # auto_grad off\n",
        "  correct = 0\n",
        "  total = 0\n",
        "  for images, labels in test_loader:\n",
        "    images = images.to(device)\n",
        "    labels = labels.to(device)\n",
        "    outputs = model(images)\n",
        "    _, predicted = torch.max(outputs.data, 1)\n",
        "\n",
        "    total += labels.size(0)\n",
        "    correct += (predicted == labels).sum().item()\n",
        "\n",
        "  print('Accuracy of the network on the {} test images {}%'.format(len(test_loader)*batch_size, 100*correct/total))"
      ],
      "execution_count": null,
      "outputs": [
        {
          "output_type": "stream",
          "text": [
            "Accuracy of the network on the 116400 test images 81.50494743086062%\n"
          ],
          "name": "stdout"
        }
      ]
    },
    {
      "cell_type": "code",
      "metadata": {
        "id": "QIeS5Pb_EIvO"
      },
      "source": [
        ""
      ],
      "execution_count": null,
      "outputs": []
    }
  ]
}