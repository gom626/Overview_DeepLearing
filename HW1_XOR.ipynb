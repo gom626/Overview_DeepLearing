{
  "nbformat": 4,
  "nbformat_minor": 0,
  "metadata": {
    "kernelspec": {
      "display_name": "Python 3",
      "language": "python",
      "name": "python3"
    },
    "language_info": {
      "codemirror_mode": {
        "name": "ipython",
        "version": 3
      },
      "file_extension": ".py",
      "mimetype": "text/x-python",
      "name": "python",
      "nbconvert_exporter": "python",
      "pygments_lexer": "ipython3",
      "version": "3.7.6"
    },
    "colab": {
      "name": "HW1_XOR.ipynb",
      "provenance": [],
      "collapsed_sections": []
    }
  },
  "cells": [
    {
      "cell_type": "markdown",
      "metadata": {
        "id": "FZWM89HAZRBq"
      },
      "source": [
        "인공지능개론 #Homework 1\n",
        "=======\n",
        "간단한 XOR Table을 학습하는 NN 을 구성하는 문제입니다.\n",
        "\n",
        "-  1-Layer, 2-Layer model을 각각 구성하여 XOR 결과를 비교합니다.\n",
        "- 1-Layer, 2-Layer의 model을 Back propagation을 이용하여 학습시킵니다.\n",
        "-  주어진 양식을 활용해 주시며, scale, 차원의 순서, hyper parameter등은 결과가 잘 나오는 방향으로 Tuning하셔도 무방합니다.\n",
        "-  Layer의 Activation 함수 Sigmoid는 5번째 셀(cell)의 함수를 사용하시면 됩니다.\n",
        "-  결과 재현을 위해 Weight,bias 값을 저장하여 함께 첨부해 주시기 바랍니다.\n",
        "-  각 모델에서 loss 그래프와 testing step을 첨부하여 간단하게 자유 양식 결과 보고서(2~3장 내외)로 작성해 주세요.\n",
        "\n",
        "\n",
        "* python으로 코드를 작성하는 경우, 양식에서 활용하는 라이브러리 외에 추가로 import 하여 사용하실 수 없습니다."
      ]
    },
    {
      "cell_type": "code",
      "metadata": {
        "id": "HM9PlZ4jZRBs"
      },
      "source": [
        "## 이 외에 추가 라이브러리 사용 금지\n",
        "import numpy as np\n",
        "import random\n",
        "import matplotlib.pyplot as plt\n",
        "%matplotlib inline"
      ],
      "execution_count": 417,
      "outputs": []
    },
    {
      "cell_type": "code",
      "metadata": {
        "id": "zgn7IQwvZRBv"
      },
      "source": [
        "# Hyper parameters\n",
        "# 학습의 횟수와 Gradient update에 쓰이는 learning rate입니다.\n",
        "# 다른 값을 사용하여도 무방합니다.\n",
        "\n",
        "epochs = 30000\n",
        "learning_rate = 0.05"
      ],
      "execution_count": 418,
      "outputs": []
    },
    {
      "cell_type": "code",
      "metadata": {
        "id": "Jw9l1mzOZRBy"
      },
      "source": [
        "# Input data setting\n",
        "# XOR data \n",
        "# 입력 데이터들, XOR Table 에 맞게 정의되어 있습니다.\n",
        "train_inp = np.array([[1, 1], [1, 0], [0, 1], [0, 0]])\n",
        "train_out = np.array([0, 1, 1, 0])"
      ],
      "execution_count": 419,
      "outputs": []
    },
    {
      "cell_type": "code",
      "metadata": {
        "id": "ZntWbUUCZRB1"
      },
      "source": [
        "# Weight Setting\n",
        "# 학습에 사용되는 Weigth 들의 초기값을 선언해 줍니다. 다른 값을 사용하여도 무방합니다.\n",
        "\n",
        "W1 = np.random.randn(2,10)\n",
        "W2 = np.random.randn(10,1)\n",
        "b1 = np.random.randn(1,10)\n",
        "b2 = np.random.randn(1,1)"
      ],
      "execution_count": 420,
      "outputs": []
    },
    {
      "cell_type": "code",
      "metadata": {
        "id": "cKqJbbeHZRB3"
      },
      "source": [
        "##-----------------------------------##\n",
        "##------- Activation Function -------##\n",
        "##-----------------------------------##\n",
        "\n",
        "def sigmoid(x):          \n",
        "    return 1 / (np.exp(-x)+1)\n"
      ],
      "execution_count": 421,
      "outputs": []
    },
    {
      "cell_type": "code",
      "metadata": {
        "id": "gDv8Pf25ZRB6",
        "outputId": "522293e0-8cef-4247-cb2c-a90d8ee8a1e1",
        "colab": {
          "base_uri": "https://localhost:8080/",
          "height": 1000
        }
      },
      "source": [
        "# ----------------------------------- #\n",
        "# --------- Training Step ----------- #\n",
        "# ----------------------------------- #\n",
        "# 학습이 시작됩니다.\n",
        "# epoch 사이즈만큼 for 문을 통해 학습됩니다.\n",
        "# 빈 칸을 채워 Weight과 bias를 학습하는 신경망을 설계하세요.\n",
        "# 양식의 모든 내용을 무조건 따를 필요는 없습니다. 각자에게 편하게 수정하셔도 좋습니다.\n",
        "\n",
        "errors = []\n",
        "for epoch in range(epochs):\n",
        "        \n",
        "    # 데이터 4가지 중 랜덤으로 하나 선택\n",
        "    for batch in range(4):\n",
        "        idx = random.randint(0,3)\n",
        "\n",
        "        # 입력 데이터 xin과 해당하는 정답 ans 불러오기\n",
        "        xin = train_inp[idx].reshape(1,2)\n",
        "        ans = train_out[idx]\n",
        "        \n",
        "        # Layer에 맞는 Forward Network 구성\n",
        "        # HINT: 1-layer의 경우 x1만, 2-layer의 경우 x2까지 사용하시면 됩니다.\n",
        "        x1 = sigmoid(xin.dot(W1)+b1)\n",
        "        x2 = sigmoid(x1.dot(W2)+b2)\n",
        "\n",
        "        # Binary Corss Entropy(BCE)로 loss 계산\n",
        "        loss = -1 * (ans * np.log(x2) + (1-ans) * np.log(1-x2))\n",
        "        # Weight 초기값을 설정(다른 방법으로 이용하셔도 됩니다.)\n",
        "        delta_W1 = np.zeros((2,10))\n",
        "        delta_W2 = np.zeros((10,1))\n",
        "        delta_b1 = np.zeros((1,10))\n",
        "        delta_b2 = np.zeros((1,1))\n",
        "        \n",
        "        # Back propagation을 통한 Weight의 Gradient update step\n",
        "\n",
        "        BCELoss=(x2-ans)*x2*(1-x2)\n",
        "        delta_W2 = x1.T.dot(BCELoss)\n",
        "        delta_b2 = np.sum(BCELoss,axis=0,keepdims=True)\n",
        "        delta_W1 = xin.T.dot(BCELoss.dot(W2.T)*x1*(1-x1))\n",
        "        delta_b1 = np.sum(BCELoss.dot(W2.T)*x1*(1-x1),axis=0,keepdims=True)\n",
        "\n",
        "        # 각 weight의 update 반영\n",
        "        W1 = W1 - learning_rate * delta_W1\n",
        "        W2 = W2 - learning_rate * delta_W2\n",
        "        \n",
        "        b1 = b1 - learning_rate * delta_b1\n",
        "        b2 = b2 - learning_rate * delta_b2\n",
        "        \n",
        "        \n",
        "        ## 500번째 epoch마다 loss를 프린트 합니다.\n",
        "    if epoch%500 == 0:\n",
        "        print(\"epoch[{}/{}] loss: {:.4f}\".format(epoch,epochs,float(loss)))\n",
        "        \n",
        "\n",
        "    errors.append(loss)\n"
      ],
      "execution_count": 422,
      "outputs": [
        {
          "output_type": "stream",
          "text": [
            "epoch[0/30000] loss: 0.1607\n",
            "epoch[500/30000] loss: 0.8694\n",
            "epoch[1000/30000] loss: 0.7578\n",
            "epoch[1500/30000] loss: 0.5331\n",
            "epoch[2000/30000] loss: 0.4629\n",
            "epoch[2500/30000] loss: 0.3287\n",
            "epoch[3000/30000] loss: 0.2787\n",
            "epoch[3500/30000] loss: 0.1728\n",
            "epoch[4000/30000] loss: 0.1442\n",
            "epoch[4500/30000] loss: 0.1554\n",
            "epoch[5000/30000] loss: 0.1125\n",
            "epoch[5500/30000] loss: 0.1260\n",
            "epoch[6000/30000] loss: 0.1183\n",
            "epoch[6500/30000] loss: 0.0738\n",
            "epoch[7000/30000] loss: 0.0886\n",
            "epoch[7500/30000] loss: 0.0934\n",
            "epoch[8000/30000] loss: 0.0645\n",
            "epoch[8500/30000] loss: 0.0828\n",
            "epoch[9000/30000] loss: 0.0690\n",
            "epoch[9500/30000] loss: 0.0693\n",
            "epoch[10000/30000] loss: 0.0609\n",
            "epoch[10500/30000] loss: 0.0669\n",
            "epoch[11000/30000] loss: 0.0568\n",
            "epoch[11500/30000] loss: 0.0556\n",
            "epoch[12000/30000] loss: 0.0532\n",
            "epoch[12500/30000] loss: 0.0423\n",
            "epoch[13000/30000] loss: 0.0582\n",
            "epoch[13500/30000] loss: 0.0468\n",
            "epoch[14000/30000] loss: 0.0464\n",
            "epoch[14500/30000] loss: 0.0519\n",
            "epoch[15000/30000] loss: 0.0445\n",
            "epoch[15500/30000] loss: 0.0429\n",
            "epoch[16000/30000] loss: 0.0473\n",
            "epoch[16500/30000] loss: 0.0406\n",
            "epoch[17000/30000] loss: 0.0398\n",
            "epoch[17500/30000] loss: 0.0391\n",
            "epoch[18000/30000] loss: 0.0323\n",
            "epoch[18500/30000] loss: 0.0317\n",
            "epoch[19000/30000] loss: 0.0364\n",
            "epoch[19500/30000] loss: 0.0300\n",
            "epoch[20000/30000] loss: 0.0402\n",
            "epoch[20500/30000] loss: 0.0348\n",
            "epoch[21000/30000] loss: 0.0394\n",
            "epoch[21500/30000] loss: 0.0336\n",
            "epoch[22000/30000] loss: 0.0328\n",
            "epoch[22500/30000] loss: 0.0270\n",
            "epoch[23000/30000] loss: 0.0265\n",
            "epoch[23500/30000] loss: 0.0262\n",
            "epoch[24000/30000] loss: 0.0309\n",
            "epoch[24500/30000] loss: 0.0254\n",
            "epoch[25000/30000] loss: 0.0306\n",
            "epoch[25500/30000] loss: 0.0245\n",
            "epoch[26000/30000] loss: 0.0297\n",
            "epoch[26500/30000] loss: 0.0240\n",
            "epoch[27000/30000] loss: 0.0286\n",
            "epoch[27500/30000] loss: 0.0285\n",
            "epoch[28000/30000] loss: 0.0234\n",
            "epoch[28500/30000] loss: 0.0270\n",
            "epoch[29000/30000] loss: 0.0275\n",
            "epoch[29500/30000] loss: 0.0305\n"
          ],
          "name": "stdout"
        }
      ]
    },
    {
      "cell_type": "code",
      "metadata": {
        "id": "ZTRo5zIuZRB8",
        "outputId": "3a07adb1-5e9a-4b1b-b6b9-34b67930d2fb",
        "colab": {
          "base_uri": "https://localhost:8080/",
          "height": 296
        }
      },
      "source": [
        "## 학습이 끝난 후, loss를 확인합니다.\n",
        "loss =  np.array(errors)\n",
        "plt.plot(loss.reshape(epochs))\n",
        "plt.xlabel(\"epoch\")\n",
        "plt.ylabel(\"loss\")"
      ],
      "execution_count": 423,
      "outputs": [
        {
          "output_type": "execute_result",
          "data": {
            "text/plain": [
              "Text(0, 0.5, 'loss')"
            ]
          },
          "metadata": {
            "tags": []
          },
          "execution_count": 423
        },
        {
          "output_type": "display_data",
          "data": {
            "image/png": "[encoded data removed]",
            "text/plain": [
              "<Figure size 432x288 with 1 Axes>"
            ]
          },
          "metadata": {
            "tags": [],
            "needs_background": "light"
          }
        }
      ]
    },
    {
      "cell_type": "code",
      "metadata": {
        "id": "aeqy7rtNZRB_",
        "outputId": "7ec48bee-b611-468b-ab62-4b7b254ff2d0",
        "colab": {
          "base_uri": "https://localhost:8080/",
          "height": 85
        }
      },
      "source": [
        "#-----------------------------------#\n",
        "#--------- Testing Step ------------#\n",
        "#-----------------------------------#\n",
        "\n",
        "for idx in range(4):\n",
        "    xin = train_inp[idx]\n",
        "    ans = train_out[idx]\n",
        "    \n",
        "    x1 = sigmoid(np.matmul(xin,W1)+b1)\n",
        "    x2 = sigmoid(np.matmul(x1,W2)+b2)\n",
        "\n",
        "    pred = x2\n",
        "    \n",
        "    print(\"input: \", xin, \", answer: \", ans, \", pred: {:.4f}\".format(float(pred)))\n",
        "    "
      ],
      "execution_count": 424,
      "outputs": [
        {
          "output_type": "stream",
          "text": [
            "input:  [1 1] , answer:  0 , pred: 0.0297\n",
            "input:  [1 0] , answer:  1 , pred: 0.9743\n",
            "input:  [0 1] , answer:  1 , pred: 0.9735\n",
            "input:  [0 0] , answer:  0 , pred: 0.0220\n"
          ],
          "name": "stdout"
        }
      ]
    },
    {
      "cell_type": "code",
      "metadata": {
        "id": "8fj1us7XZRCB"
      },
      "source": [
        "#-----------------------------------#\n",
        "#--------- Weight Saving -----------#\n",
        "#-----------------------------------#\n",
        "\n",
        "# weight, bias를 저장하는 부분입니다.\n",
        "# 학번에 자신의 학번으로 대체해 주세요.\n",
        "\n",
        "#layer 1개인 경우\n",
        "np.savetxt(\"20151600_layer1_weight\",(W1, b1),fmt=\"%s\")\n",
        "\n",
        "#layer 2개인 경우\n",
        "np.savetxt(\"20151600_layer2_weight\",(W1, W2, b1, b2),fmt=\"%s\")"
      ],
      "execution_count": 426,
      "outputs": []
    }
  ]
}