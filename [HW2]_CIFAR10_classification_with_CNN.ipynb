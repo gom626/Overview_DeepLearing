{
  "nbformat": 4,
  "nbformat_minor": 0,
  "metadata": {
    "accelerator": "GPU",
    "colab": {
      "name": "[HW2] CIFAR10 classification with CNN.ipynb",
      "provenance": [],
      "collapsed_sections": []
    },
    "kernelspec": {
      "display_name": "Python 3",
      "name": "python3"
    },
    "widgets": {
      "application/vnd.jupyter.widget-state+json": {
        "399cafe30cdb4faea4dde5e093ba52bb": {
          "model_module": "@jupyter-widgets/controls",
          "model_name": "HBoxModel",
          "state": {
            "_view_name": "HBoxView",
            "_dom_classes": [],
            "_model_name": "HBoxModel",
            "_view_module": "@jupyter-widgets/controls",
            "_model_module_version": "1.5.0",
            "_view_count": null,
            "_view_module_version": "1.5.0",
            "box_style": "",
            "layout": "IPY_MODEL_b890884a38bd46fcbadc672c9ee26d17",
            "_model_module": "@jupyter-widgets/controls",
            "children": [
              "IPY_MODEL_30167618cfc946928c13361723d1da98",
              "IPY_MODEL_bb1a68a9e20a4e50a0dac8d5f9c6d627"
            ]
          }
        },
        "b890884a38bd46fcbadc672c9ee26d17": {
          "model_module": "@jupyter-widgets/base",
          "model_name": "LayoutModel",
          "state": {
            "_view_name": "LayoutView",
            "grid_template_rows": null,
            "right": null,
            "justify_content": null,
            "_view_module": "@jupyter-widgets/base",
            "overflow": null,
            "_model_module_version": "1.2.0",
            "_view_count": null,
            "flex_flow": null,
            "width": null,
            "min_width": null,
            "border": null,
            "align_items": null,
            "bottom": null,
            "_model_module": "@jupyter-widgets/base",
            "top": null,
            "grid_column": null,
            "overflow_y": null,
            "overflow_x": null,
            "grid_auto_flow": null,
            "grid_area": null,
            "grid_template_columns": null,
            "flex": null,
            "_model_name": "LayoutModel",
            "justify_items": null,
            "grid_row": null,
            "max_height": null,
            "align_content": null,
            "visibility": null,
            "align_self": null,
            "height": null,
            "min_height": null,
            "padding": null,
            "grid_auto_rows": null,
            "grid_gap": null,
            "max_width": null,
            "order": null,
            "_view_module_version": "1.2.0",
            "grid_template_areas": null,
            "object_position": null,
            "object_fit": null,
            "grid_auto_columns": null,
            "margin": null,
            "display": null,
            "left": null
          }
        },
        "30167618cfc946928c13361723d1da98": {
          "model_module": "@jupyter-widgets/controls",
          "model_name": "FloatProgressModel",
          "state": {
            "_view_name": "ProgressView",
            "style": "IPY_MODEL_934d30c752e1435389759914fea55437",
            "_dom_classes": [],
            "description": "",
            "_model_name": "FloatProgressModel",
            "bar_style": "success",
            "max": 1,
            "_view_module": "@jupyter-widgets/controls",
            "_model_module_version": "1.5.0",
            "value": 1,
            "_view_count": null,
            "_view_module_version": "1.5.0",
            "orientation": "horizontal",
            "min": 0,
            "description_tooltip": null,
            "_model_module": "@jupyter-widgets/controls",
            "layout": "IPY_MODEL_6a8ed75908044bb1914a4a3586c5e33a"
          }
        },
        "bb1a68a9e20a4e50a0dac8d5f9c6d627": {
          "model_module": "@jupyter-widgets/controls",
          "model_name": "HTMLModel",
          "state": {
            "_view_name": "HTMLView",
            "style": "IPY_MODEL_1eb1876b91004fba9675e7130e6f8a3c",
            "_dom_classes": [],
            "description": "",
            "_model_name": "HTMLModel",
            "placeholder": "​",
            "_view_module": "@jupyter-widgets/controls",
            "_model_module_version": "1.5.0",
            "value": " 170500096/? [00:08&lt;00:00, 21138499.92it/s]",
            "_view_count": null,
            "_view_module_version": "1.5.0",
            "description_tooltip": null,
            "_model_module": "@jupyter-widgets/controls",
            "layout": "IPY_MODEL_42b4a7dbafaa4e75bd34d7b5c168fd4b"
          }
        },
        "934d30c752e1435389759914fea55437": {
          "model_module": "@jupyter-widgets/controls",
          "model_name": "ProgressStyleModel",
          "state": {
            "_view_name": "StyleView",
            "_model_name": "ProgressStyleModel",
            "description_width": "initial",
            "_view_module": "@jupyter-widgets/base",
            "_model_module_version": "1.5.0",
            "_view_count": null,
            "_view_module_version": "1.2.0",
            "bar_color": null,
            "_model_module": "@jupyter-widgets/controls"
          }
        },
        "6a8ed75908044bb1914a4a3586c5e33a": {
          "model_module": "@jupyter-widgets/base",
          "model_name": "LayoutModel",
          "state": {
            "_view_name": "LayoutView",
            "grid_template_rows": null,
            "right": null,
            "justify_content": null,
            "_view_module": "@jupyter-widgets/base",
            "overflow": null,
            "_model_module_version": "1.2.0",
            "_view_count": null,
            "flex_flow": null,
            "width": null,
            "min_width": null,
            "border": null,
            "align_items": null,
            "bottom": null,
            "_model_module": "@jupyter-widgets/base",
            "top": null,
            "grid_column": null,
            "overflow_y": null,
            "overflow_x": null,
            "grid_auto_flow": null,
            "grid_area": null,
            "grid_template_columns": null,
            "flex": null,
            "_model_name": "LayoutModel",
            "justify_items": null,
            "grid_row": null,
            "max_height": null,
            "align_content": null,
            "visibility": null,
            "align_self": null,
            "height": null,
            "min_height": null,
            "padding": null,
            "grid_auto_rows": null,
            "grid_gap": null,
            "max_width": null,
            "order": null,
            "_view_module_version": "1.2.0",
            "grid_template_areas": null,
            "object_position": null,
            "object_fit": null,
            "grid_auto_columns": null,
            "margin": null,
            "display": null,
            "left": null
          }
        },
        "1eb1876b91004fba9675e7130e6f8a3c": {
          "model_module": "@jupyter-widgets/controls",
          "model_name": "DescriptionStyleModel",
          "state": {
            "_view_name": "StyleView",
            "_model_name": "DescriptionStyleModel",
            "description_width": "",
            "_view_module": "@jupyter-widgets/base",
            "_model_module_version": "1.5.0",
            "_view_count": null,
            "_view_module_version": "1.2.0",
            "_model_module": "@jupyter-widgets/controls"
          }
        },
        "42b4a7dbafaa4e75bd34d7b5c168fd4b": {
          "model_module": "@jupyter-widgets/base",
          "model_name": "LayoutModel",
          "state": {
            "_view_name": "LayoutView",
            "grid_template_rows": null,
            "right": null,
            "justify_content": null,
            "_view_module": "@jupyter-widgets/base",
            "overflow": null,
            "_model_module_version": "1.2.0",
            "_view_count": null,
            "flex_flow": null,
            "width": null,
            "min_width": null,
            "border": null,
            "align_items": null,
            "bottom": null,
            "_model_module": "@jupyter-widgets/base",
            "top": null,
            "grid_column": null,
            "overflow_y": null,
            "overflow_x": null,
            "grid_auto_flow": null,
            "grid_area": null,
            "grid_template_columns": null,
            "flex": null,
            "_model_name": "LayoutModel",
            "justify_items": null,
            "grid_row": null,
            "max_height": null,
            "align_content": null,
            "visibility": null,
            "align_self": null,
            "height": null,
            "min_height": null,
            "padding": null,
            "grid_auto_rows": null,
            "grid_gap": null,
            "max_width": null,
            "order": null,
            "_view_module_version": "1.2.0",
            "grid_template_areas": null,
            "object_position": null,
            "object_fit": null,
            "grid_auto_columns": null,
            "margin": null,
            "display": null,
            "left": null
          }
        }
      }
    }
  },
  "cells": [
    {
      "cell_type": "code",
      "metadata": {
        "id": "skry-igqYEJ5"
      },
      "source": [
        "import torch\n",
        "import torchvision\n",
        "import torchvision.transforms as transforms"
      ],
      "execution_count": null,
      "outputs": []
    },
    {
      "cell_type": "code",
      "metadata": {
        "id": "e57p7UZpYZkw"
      },
      "source": [
        "# Device Configuration\n",
        "#device = torch.device('cuda' if torch.cuda.is_available() else 'cpu')\n",
        "\n",
        "# Adjust Model Structure Depends on the Data\n",
        "num_classes = 10 # label 0~9: total 10 classes\n",
        "in_channel = 3 # black and white images: 1 channel (RGB: 3 channels)\n",
        "\n",
        "# Hyper-parameters\n",
        "batch_size = 10\n",
        "max_pool_kernel = 2\n",
        "learning_rate = 0.001\n",
        "num_epochs = 30"
      ],
      "execution_count": null,
      "outputs": []
    },
    {
      "cell_type": "code",
      "metadata": {
        "id": "uXSK3h21Yh86",
        "colab": {
          "base_uri": "https://localhost:8080/",
          "height": 100,
          "referenced_widgets": [
            "399cafe30cdb4faea4dde5e093ba52bb",
            "b890884a38bd46fcbadc672c9ee26d17",
            "30167618cfc946928c13361723d1da98",
            "bb1a68a9e20a4e50a0dac8d5f9c6d627",
            "934d30c752e1435389759914fea55437",
            "6a8ed75908044bb1914a4a3586c5e33a",
            "1eb1876b91004fba9675e7130e6f8a3c",
            "42b4a7dbafaa4e75bd34d7b5c168fd4b"
          ]
        },
        "outputId": "bd2ceca7-a777-4760-e5d5-7ff3283792c6"
      },
      "source": [
        "transform = transforms.Compose(\n",
        "    [transforms.ToTensor(),\n",
        "     transforms.Normalize((0.5, 0.5, 0.5), (0.5, 0.5, 0.5))])\n",
        "\n",
        "trainset = torchvision.datasets.CIFAR10(root='./data', train=True,\n",
        "                                        download=True, transform=transform)\n",
        "trainloader = torch.utils.data.DataLoader(trainset, batch_size=batch_size,\n",
        "                                          shuffle=True, num_workers=2)\n",
        "\n",
        "testset = torchvision.datasets.CIFAR10(root='./data', train=False,\n",
        "                                       download=True, transform=transform)\n",
        "testloader = torch.utils.data.DataLoader(testset, batch_size=batch_size,\n",
        "                                         shuffle=False, num_workers=2)\n",
        "\n",
        "classes = ('plane', 'car', 'bird', 'cat',\n",
        "           'deer', 'dog', 'frog', 'horse', 'ship', 'truck')"
      ],
      "execution_count": null,
      "outputs": [
        {
          "output_type": "stream",
          "text": [
            "Downloading https://www.cs.toronto.edu/~kriz/cifar-10-python.tar.gz to ./data/cifar-10-python.tar.gz\n"
          ],
          "name": "stdout"
        },
        {
          "output_type": "display_data",
          "data": {
            "application/vnd.jupyter.widget-view+json": {
              "model_id": "399cafe30cdb4faea4dde5e093ba52bb",
              "version_minor": 0,
              "version_major": 2
            },
            "text/plain": [
              "HBox(children=(FloatProgress(value=1.0, bar_style='info', max=1.0), HTML(value='')))"
            ]
          },
          "metadata": {
            "tags": []
          }
        },
        {
          "output_type": "stream",
          "text": [
            "Extracting ./data/cifar-10-python.tar.gz to ./data\n",
            "Files already downloaded and verified\n"
          ],
          "name": "stdout"
        }
      ]
    },
    {
      "cell_type": "code",
      "metadata": {
        "id": "qUBc7omgYpwj",
        "colab": {
          "base_uri": "https://localhost:8080/",
          "height": 349
        },
        "outputId": "3080e656-c0dc-4d58-b47b-ce42c77db923"
      },
      "source": [
        "import matplotlib.pyplot as plt\n",
        "import numpy as np\n",
        "import torchsummary as summary\n",
        "#from scipy.misc import toimage\n",
        "\n",
        "\n",
        "print(testset[0][0].shape)\n",
        "print(classes[testset[0][-1]])\n",
        "plt.figure(figsize=(4,4))\n",
        "plt.imshow(np.transpose(testset[0][0], (1, 2, 0)), interpolation='nearest')\n",
        "plt.title(classes[testset[0][-1]])\n",
        "plt.show()"
      ],
      "execution_count": null,
      "outputs": [
        {
          "output_type": "stream",
          "text": [
            "Clipping input data to the valid range for imshow with RGB data ([0..1] for floats or [0..255] for integers).\n"
          ],
          "name": "stderr"
        },
        {
          "output_type": "stream",
          "text": [
            "torch.Size([3, 32, 32])\n",
            "cat\n"
          ],
          "name": "stdout"
        },
        {
          "output_type": "display_data",
          "data": {
            "image/png": "[encoded data removed]",
            "text/plain": [
              "<Figure size 288x288 with 1 Axes>"
            ]
          },
          "metadata": {
            "tags": [],
            "needs_background": "light"
          }
        },
        {
          "output_type": "stream",
          "text": [
            "\n"
          ],
          "name": "stdout"
        }
      ]
    },
    {
      "cell_type": "code",
      "metadata": {
        "id": "LPxKEdJ4Y1HV"
      },
      "source": [
        "import torch.nn as nn\n",
        "import torch.nn.functional as F\n",
        "\n",
        "\n",
        "class Net(nn.Module):\n",
        "  def __init__(self):\n",
        "    super(Net, self).__init__()\n",
        "    self.layer1 = nn.Sequential(\n",
        "        nn.Conv2d(3,6,(5,5)),\n",
        "        nn.BatchNorm2d(6),\n",
        "        nn.ReLU(),\n",
        "        nn.MaxPool2d(2,stride=2)\n",
        "    )\n",
        "    self.layer2 = nn.Sequential(\n",
        "        nn.Conv2d(6,16,(5,5)),\n",
        "        nn.BatchNorm2d(16),\n",
        "        nn.ReLU(),\n",
        "        nn.MaxPool2d(2,stride=2)\n",
        "    )\n",
        "    self.layer3= nn.Linear(5*5*16, 120)\n",
        "    self.layer4 = nn.Linear(120, 84)\n",
        "    self.fc=nn.Linear(84,10)\n",
        "\n",
        "  def forward(self, x):\n",
        "    out = self.layer1(x)\n",
        "    out = self.layer2(out)\n",
        "    out = out.reshape(out.size(0),-1)\n",
        "    out = F.relu(self.layer3(out)) #layer 3\n",
        "    out = self.layer4(out)\n",
        "    out = self.fc(out)\n",
        "\n",
        "    return out\n",
        "\n",
        "model = Net()"
      ],
      "execution_count": null,
      "outputs": []
    },
    {
      "cell_type": "code",
      "metadata": {
        "id": "cCRyoZd-Y7KC",
        "colab": {
          "base_uri": "https://localhost:8080/"
        },
        "outputId": "0a8ef5de-1211-4c65-fc8e-cf93ed1fbbe7"
      },
      "source": [
        "print(model)\n",
        "#model = Net().to(device)"
      ],
      "execution_count": null,
      "outputs": [
        {
          "output_type": "stream",
          "text": [
            "Net(\n",
            "  (layer1): Sequential(\n",
            "    (0): Conv2d(3, 6, kernel_size=(5, 5), stride=(1, 1))\n",
            "    (1): BatchNorm2d(6, eps=1e-05, momentum=0.1, affine=True, track_running_stats=True)\n",
            "    (2): ReLU()\n",
            "    (3): MaxPool2d(kernel_size=2, stride=2, padding=0, dilation=1, ceil_mode=False)\n",
            "  )\n",
            "  (layer2): Sequential(\n",
            "    (0): Conv2d(6, 16, kernel_size=(5, 5), stride=(1, 1))\n",
            "    (1): BatchNorm2d(16, eps=1e-05, momentum=0.1, affine=True, track_running_stats=True)\n",
            "    (2): ReLU()\n",
            "    (3): MaxPool2d(kernel_size=2, stride=2, padding=0, dilation=1, ceil_mode=False)\n",
            "  )\n",
            "  (layer3): Linear(in_features=400, out_features=120, bias=True)\n",
            "  (layer4): Linear(in_features=120, out_features=84, bias=True)\n",
            "  (fc): Linear(in_features=84, out_features=10, bias=True)\n",
            ")\n"
          ],
          "name": "stdout"
        }
      ]
    },
    {
      "cell_type": "code",
      "metadata": {
        "id": "h5vP9ue1ZRRp",
        "colab": {
          "base_uri": "https://localhost:8080/"
        },
        "outputId": "fd8345a7-3764-4dc0-ca8a-2326ec059cea"
      },
      "source": [
        "# cf) see network form\n",
        "print(model)\n",
        "\n",
        "# cf) check the number of parameters\n",
        "print('{:=^60}'.format(\"=\"))\n",
        "print('{:^60}'.format(\"model summary\"))\n",
        "print('{:=^60}'.format(\"=\"))\n",
        "for param_tensor in model.state_dict():\n",
        "  print('%-30s'%param_tensor, '{:^30}'.format(str(model.state_dict()[param_tensor].size())))\n",
        "print('{:=^60}'.format(\"=\"))"
      ],
      "execution_count": null,
      "outputs": [
        {
          "output_type": "stream",
          "text": [
            "Net(\n",
            "  (layer1): Sequential(\n",
            "    (0): Conv2d(3, 6, kernel_size=(5, 5), stride=(1, 1))\n",
            "    (1): BatchNorm2d(6, eps=1e-05, momentum=0.1, affine=True, track_running_stats=True)\n",
            "    (2): ReLU()\n",
            "    (3): MaxPool2d(kernel_size=2, stride=2, padding=0, dilation=1, ceil_mode=False)\n",
            "  )\n",
            "  (layer2): Sequential(\n",
            "    (0): Conv2d(6, 16, kernel_size=(5, 5), stride=(1, 1))\n",
            "    (1): BatchNorm2d(16, eps=1e-05, momentum=0.1, affine=True, track_running_stats=True)\n",
            "    (2): ReLU()\n",
            "    (3): MaxPool2d(kernel_size=2, stride=2, padding=0, dilation=1, ceil_mode=False)\n",
            "  )\n",
            "  (layer3): Linear(in_features=400, out_features=120, bias=True)\n",
            "  (layer4): Linear(in_features=120, out_features=84, bias=True)\n",
            "  (fc): Linear(in_features=84, out_features=10, bias=True)\n",
            ")\n",
            "============================================================\n",
            "                       model summary                        \n",
            "============================================================\n",
            "layer1.0.weight                   torch.Size([6, 3, 5, 5])   \n",
            "layer1.0.bias                         torch.Size([6])        \n",
            "layer1.1.weight                       torch.Size([6])        \n",
            "layer1.1.bias                         torch.Size([6])        \n",
            "layer1.1.running_mean                 torch.Size([6])        \n",
            "layer1.1.running_var                  torch.Size([6])        \n",
            "layer1.1.num_batches_tracked           torch.Size([])        \n",
            "layer2.0.weight                  torch.Size([16, 6, 5, 5])   \n",
            "layer2.0.bias                         torch.Size([16])       \n",
            "layer2.1.weight                       torch.Size([16])       \n",
            "layer2.1.bias                         torch.Size([16])       \n",
            "layer2.1.running_mean                 torch.Size([16])       \n",
            "layer2.1.running_var                  torch.Size([16])       \n",
            "layer2.1.num_batches_tracked           torch.Size([])        \n",
            "layer3.weight                      torch.Size([120, 400])    \n",
            "layer3.bias                          torch.Size([120])       \n",
            "layer4.weight                      torch.Size([84, 120])     \n",
            "layer4.bias                           torch.Size([84])       \n",
            "fc.weight                           torch.Size([10, 84])     \n",
            "fc.bias                               torch.Size([10])       \n",
            "============================================================\n"
          ],
          "name": "stdout"
        }
      ]
    },
    {
      "cell_type": "code",
      "metadata": {
        "id": "9jqQbZxJ0R32"
      },
      "source": [
        "criterion = nn.CrossEntropyLoss()\n",
        "optimizer = torch.optim.Adam(model.parameters(), lr=learning_rate)"
      ],
      "execution_count": null,
      "outputs": []
    },
    {
      "cell_type": "code",
      "metadata": {
        "id": "N2-UCX9v1kGs",
        "colab": {
          "base_uri": "https://localhost:8080/"
        },
        "outputId": "21212329-9d21-4f06-b7cf-03132de82242"
      },
      "source": [
        "total_step = len(trainloader)\n",
        "loss_list = []\n",
        "# Train\n",
        "for epoch in range(num_epochs):\n",
        "  for i, (images, labels) in enumerate(trainloader):\n",
        "    # Assign Tensors to Configured Device\n",
        "    #images = images.to(device)\n",
        "    #labels = labels.to(device)\n",
        "\n",
        "    # Forward Propagation\n",
        "    outputs = model(images)\n",
        "\n",
        "    # Get Loss, Compute Gradient, Update Parameters\n",
        "    loss = criterion(outputs, labels)\n",
        "    optimizer.zero_grad()\n",
        "    loss.backward()\n",
        "    optimizer.step()\n",
        "\n",
        "    # Append loss to plot graph\n",
        "    loss_list.append(loss)\n",
        "\n",
        "    # Print Loss for Tracking Training\n",
        "    if i % 2000 == 0:\n",
        "      acc = 0\n",
        "      test_image, test_label = next(iter(testloader))\n",
        "      _, test_predicted = torch.max(model(test_image).data, 1)\n",
        "\n",
        "      for (pred, ans) in zip(test_predicted, test_label):\n",
        "        if pred == ans:\n",
        "          acc += 1\n",
        "      acc = acc / len(test_predicted)\n",
        "      print('Epoch [{}/{}], Step [{}/{}], Loss: {:.4f}, Accuracy: {:.1f}%'.format(epoch+1,num_epochs, i+1, total_step, loss.item(), acc*100))\n",
        "      print('Testing data: [Predicted: {} / Real: {}]'.format(test_predicted, test_label))\n",
        "\n",
        "  if epoch+1 == num_epochs:\n",
        "    torch.save(model.state_dict(), 'model.pth')\n",
        "  else:\n",
        "    torch.save(model.state_dict(), 'model-{:02d}_epochs.pth'.format(epoch+1))"
      ],
      "execution_count": null,
      "outputs": [
        {
          "output_type": "stream",
          "text": [
            "Epoch [1/30], Step [1/5000], Loss: 2.3104, Accuracy: 0.0%\n",
            "Testing data: [Predicted: tensor([0, 0, 0, 2, 0, 0, 0, 9, 0, 2]) / Real: tensor([3, 8, 8, 0, 6, 6, 1, 6, 3, 1])]\n",
            "Epoch [1/30], Step [2001/5000], Loss: 1.8061, Accuracy: 40.0%\n",
            "Testing data: [Predicted: tensor([3, 0, 9, 0, 4, 6, 5, 6, 5, 9]) / Real: tensor([3, 8, 8, 0, 6, 6, 1, 6, 3, 1])]\n",
            "Epoch [1/30], Step [4001/5000], Loss: 2.2651, Accuracy: 60.0%\n",
            "Testing data: [Predicted: tensor([3, 1, 9, 0, 6, 6, 5, 6, 5, 1]) / Real: tensor([3, 8, 8, 0, 6, 6, 1, 6, 3, 1])]\n",
            "Epoch [2/30], Step [1/5000], Loss: 0.9882, Accuracy: 50.0%\n",
            "Testing data: [Predicted: tensor([3, 8, 0, 8, 4, 6, 4, 6, 5, 1]) / Real: tensor([3, 8, 8, 0, 6, 6, 1, 6, 3, 1])]\n",
            "Epoch [2/30], Step [2001/5000], Loss: 1.2475, Accuracy: 70.0%\n",
            "Testing data: [Predicted: tensor([3, 0, 0, 0, 6, 6, 1, 6, 7, 1]) / Real: tensor([3, 8, 8, 0, 6, 6, 1, 6, 3, 1])]\n",
            "Epoch [2/30], Step [4001/5000], Loss: 1.2384, Accuracy: 60.0%\n",
            "Testing data: [Predicted: tensor([3, 8, 9, 0, 4, 6, 6, 6, 5, 1]) / Real: tensor([3, 8, 8, 0, 6, 6, 1, 6, 3, 1])]\n",
            "Epoch [3/30], Step [1/5000], Loss: 1.1634, Accuracy: 70.0%\n",
            "Testing data: [Predicted: tensor([3, 8, 9, 0, 6, 6, 3, 6, 5, 1]) / Real: tensor([3, 8, 8, 0, 6, 6, 1, 6, 3, 1])]\n",
            "Epoch [3/30], Step [2001/5000], Loss: 1.0159, Accuracy: 60.0%\n",
            "Testing data: [Predicted: tensor([3, 1, 9, 0, 4, 6, 5, 6, 3, 1]) / Real: tensor([3, 8, 8, 0, 6, 6, 1, 6, 3, 1])]\n",
            "Epoch [3/30], Step [4001/5000], Loss: 1.0444, Accuracy: 50.0%\n",
            "Testing data: [Predicted: tensor([5, 8, 1, 0, 4, 6, 5, 6, 4, 1]) / Real: tensor([3, 8, 8, 0, 6, 6, 1, 6, 3, 1])]\n",
            "Epoch [4/30], Step [1/5000], Loss: 0.6755, Accuracy: 60.0%\n",
            "Testing data: [Predicted: tensor([3, 1, 8, 0, 4, 6, 6, 6, 5, 1]) / Real: tensor([3, 8, 8, 0, 6, 6, 1, 6, 3, 1])]\n",
            "Epoch [4/30], Step [2001/5000], Loss: 0.9196, Accuracy: 70.0%\n",
            "Testing data: [Predicted: tensor([3, 0, 0, 0, 6, 6, 3, 6, 3, 1]) / Real: tensor([3, 8, 8, 0, 6, 6, 1, 6, 3, 1])]\n",
            "Epoch [4/30], Step [4001/5000], Loss: 0.8445, Accuracy: 60.0%\n",
            "Testing data: [Predicted: tensor([3, 1, 9, 0, 4, 6, 3, 6, 3, 1]) / Real: tensor([3, 8, 8, 0, 6, 6, 1, 6, 3, 1])]\n",
            "Epoch [5/30], Step [1/5000], Loss: 1.3090, Accuracy: 80.0%\n",
            "Testing data: [Predicted: tensor([3, 8, 9, 0, 6, 6, 3, 6, 3, 1]) / Real: tensor([3, 8, 8, 0, 6, 6, 1, 6, 3, 1])]\n",
            "Epoch [5/30], Step [2001/5000], Loss: 1.5604, Accuracy: 70.0%\n",
            "Testing data: [Predicted: tensor([3, 1, 0, 0, 6, 6, 5, 6, 3, 1]) / Real: tensor([3, 8, 8, 0, 6, 6, 1, 6, 3, 1])]\n",
            "Epoch [5/30], Step [4001/5000], Loss: 1.2299, Accuracy: 70.0%\n",
            "Testing data: [Predicted: tensor([3, 0, 0, 0, 6, 6, 5, 6, 3, 1]) / Real: tensor([3, 8, 8, 0, 6, 6, 1, 6, 3, 1])]\n",
            "Epoch [6/30], Step [1/5000], Loss: 0.7570, Accuracy: 70.0%\n",
            "Testing data: [Predicted: tensor([3, 1, 0, 0, 6, 6, 5, 6, 3, 1]) / Real: tensor([3, 8, 8, 0, 6, 6, 1, 6, 3, 1])]\n",
            "Epoch [6/30], Step [2001/5000], Loss: 0.5330, Accuracy: 60.0%\n",
            "Testing data: [Predicted: tensor([3, 0, 9, 0, 4, 6, 3, 6, 3, 1]) / Real: tensor([3, 8, 8, 0, 6, 6, 1, 6, 3, 1])]\n",
            "Epoch [6/30], Step [4001/5000], Loss: 1.0496, Accuracy: 50.0%\n",
            "Testing data: [Predicted: tensor([3, 1, 9, 0, 4, 6, 3, 6, 7, 1]) / Real: tensor([3, 8, 8, 0, 6, 6, 1, 6, 3, 1])]\n",
            "Epoch [7/30], Step [1/5000], Loss: 0.8859, Accuracy: 70.0%\n",
            "Testing data: [Predicted: tensor([3, 8, 9, 0, 4, 6, 3, 6, 3, 1]) / Real: tensor([3, 8, 8, 0, 6, 6, 1, 6, 3, 1])]\n",
            "Epoch [7/30], Step [2001/5000], Loss: 1.0401, Accuracy: 60.0%\n",
            "Testing data: [Predicted: tensor([3, 8, 9, 0, 4, 5, 5, 6, 3, 1]) / Real: tensor([3, 8, 8, 0, 6, 6, 1, 6, 3, 1])]\n",
            "Epoch [7/30], Step [4001/5000], Loss: 0.8284, Accuracy: 60.0%\n",
            "Testing data: [Predicted: tensor([3, 1, 9, 0, 4, 6, 3, 6, 3, 1]) / Real: tensor([3, 8, 8, 0, 6, 6, 1, 6, 3, 1])]\n",
            "Epoch [8/30], Step [1/5000], Loss: 1.0227, Accuracy: 70.0%\n",
            "Testing data: [Predicted: tensor([3, 8, 0, 0, 4, 6, 5, 6, 3, 1]) / Real: tensor([3, 8, 8, 0, 6, 6, 1, 6, 3, 1])]\n",
            "Epoch [8/30], Step [2001/5000], Loss: 1.1756, Accuracy: 70.0%\n",
            "Testing data: [Predicted: tensor([3, 8, 9, 0, 4, 6, 5, 6, 3, 1]) / Real: tensor([3, 8, 8, 0, 6, 6, 1, 6, 3, 1])]\n",
            "Epoch [8/30], Step [4001/5000], Loss: 0.4255, Accuracy: 60.0%\n",
            "Testing data: [Predicted: tensor([3, 1, 0, 0, 4, 6, 5, 6, 3, 1]) / Real: tensor([3, 8, 8, 0, 6, 6, 1, 6, 3, 1])]\n",
            "Epoch [9/30], Step [1/5000], Loss: 0.8546, Accuracy: 60.0%\n",
            "Testing data: [Predicted: tensor([3, 8, 0, 0, 4, 4, 5, 6, 3, 1]) / Real: tensor([3, 8, 8, 0, 6, 6, 1, 6, 3, 1])]\n",
            "Epoch [9/30], Step [2001/5000], Loss: 0.8668, Accuracy: 60.0%\n",
            "Testing data: [Predicted: tensor([3, 1, 9, 0, 4, 6, 5, 6, 3, 1]) / Real: tensor([3, 8, 8, 0, 6, 6, 1, 6, 3, 1])]\n",
            "Epoch [9/30], Step [4001/5000], Loss: 1.0398, Accuracy: 60.0%\n",
            "Testing data: [Predicted: tensor([3, 0, 0, 0, 4, 6, 5, 6, 3, 1]) / Real: tensor([3, 8, 8, 0, 6, 6, 1, 6, 3, 1])]\n",
            "Epoch [10/30], Step [1/5000], Loss: 1.1982, Accuracy: 60.0%\n",
            "Testing data: [Predicted: tensor([3, 1, 9, 0, 4, 6, 5, 6, 3, 1]) / Real: tensor([3, 8, 8, 0, 6, 6, 1, 6, 3, 1])]\n",
            "Epoch [10/30], Step [2001/5000], Loss: 0.9658, Accuracy: 50.0%\n",
            "Testing data: [Predicted: tensor([5, 0, 9, 0, 4, 6, 5, 6, 3, 1]) / Real: tensor([3, 8, 8, 0, 6, 6, 1, 6, 3, 1])]\n",
            "Epoch [10/30], Step [4001/5000], Loss: 0.8882, Accuracy: 70.0%\n",
            "Testing data: [Predicted: tensor([3, 8, 0, 0, 4, 6, 5, 6, 3, 1]) / Real: tensor([3, 8, 8, 0, 6, 6, 1, 6, 3, 1])]\n",
            "Epoch [11/30], Step [1/5000], Loss: 1.6742, Accuracy: 60.0%\n",
            "Testing data: [Predicted: tensor([3, 1, 0, 0, 4, 6, 5, 6, 3, 1]) / Real: tensor([3, 8, 8, 0, 6, 6, 1, 6, 3, 1])]\n",
            "Epoch [11/30], Step [2001/5000], Loss: 0.9900, Accuracy: 70.0%\n",
            "Testing data: [Predicted: tensor([3, 8, 0, 0, 4, 6, 5, 6, 3, 1]) / Real: tensor([3, 8, 8, 0, 6, 6, 1, 6, 3, 1])]\n",
            "Epoch [11/30], Step [4001/5000], Loss: 1.0793, Accuracy: 60.0%\n",
            "Testing data: [Predicted: tensor([3, 0, 9, 0, 4, 6, 5, 6, 3, 1]) / Real: tensor([3, 8, 8, 0, 6, 6, 1, 6, 3, 1])]\n",
            "Epoch [12/30], Step [1/5000], Loss: 0.3515, Accuracy: 60.0%\n",
            "Testing data: [Predicted: tensor([3, 0, 0, 0, 4, 6, 5, 6, 3, 1]) / Real: tensor([3, 8, 8, 0, 6, 6, 1, 6, 3, 1])]\n",
            "Epoch [12/30], Step [2001/5000], Loss: 0.4454, Accuracy: 70.0%\n",
            "Testing data: [Predicted: tensor([3, 8, 0, 0, 4, 6, 5, 6, 3, 1]) / Real: tensor([3, 8, 8, 0, 6, 6, 1, 6, 3, 1])]\n",
            "Epoch [12/30], Step [4001/5000], Loss: 0.5059, Accuracy: 50.0%\n",
            "Testing data: [Predicted: tensor([5, 1, 9, 0, 4, 6, 5, 6, 3, 1]) / Real: tensor([3, 8, 8, 0, 6, 6, 1, 6, 3, 1])]\n",
            "Epoch [13/30], Step [1/5000], Loss: 0.8573, Accuracy: 70.0%\n",
            "Testing data: [Predicted: tensor([3, 8, 9, 0, 4, 6, 5, 6, 3, 1]) / Real: tensor([3, 8, 8, 0, 6, 6, 1, 6, 3, 1])]\n",
            "Epoch [13/30], Step [2001/5000], Loss: 0.7477, Accuracy: 60.0%\n",
            "Testing data: [Predicted: tensor([3, 1, 0, 0, 4, 6, 5, 6, 3, 1]) / Real: tensor([3, 8, 8, 0, 6, 6, 1, 6, 3, 1])]\n",
            "Epoch [13/30], Step [4001/5000], Loss: 0.5432, Accuracy: 60.0%\n",
            "Testing data: [Predicted: tensor([3, 1, 0, 0, 4, 6, 5, 6, 3, 1]) / Real: tensor([3, 8, 8, 0, 6, 6, 1, 6, 3, 1])]\n",
            "Epoch [14/30], Step [1/5000], Loss: 0.6772, Accuracy: 70.0%\n",
            "Testing data: [Predicted: tensor([3, 8, 0, 0, 4, 6, 5, 6, 3, 1]) / Real: tensor([3, 8, 8, 0, 6, 6, 1, 6, 3, 1])]\n",
            "Epoch [14/30], Step [2001/5000], Loss: 0.9702, Accuracy: 60.0%\n",
            "Testing data: [Predicted: tensor([3, 8, 9, 2, 4, 6, 5, 6, 3, 1]) / Real: tensor([3, 8, 8, 0, 6, 6, 1, 6, 3, 1])]\n",
            "Epoch [14/30], Step [4001/5000], Loss: 0.9506, Accuracy: 60.0%\n",
            "Testing data: [Predicted: tensor([3, 0, 0, 0, 4, 6, 5, 6, 3, 1]) / Real: tensor([3, 8, 8, 0, 6, 6, 1, 6, 3, 1])]\n",
            "Epoch [15/30], Step [1/5000], Loss: 0.8471, Accuracy: 70.0%\n",
            "Testing data: [Predicted: tensor([3, 8, 0, 0, 4, 6, 5, 6, 3, 1]) / Real: tensor([3, 8, 8, 0, 6, 6, 1, 6, 3, 1])]\n",
            "Epoch [15/30], Step [2001/5000], Loss: 0.1623, Accuracy: 60.0%\n",
            "Testing data: [Predicted: tensor([3, 1, 0, 0, 4, 6, 5, 6, 3, 1]) / Real: tensor([3, 8, 8, 0, 6, 6, 1, 6, 3, 1])]\n",
            "Epoch [15/30], Step [4001/5000], Loss: 0.6847, Accuracy: 60.0%\n",
            "Testing data: [Predicted: tensor([3, 8, 0, 0, 4, 6, 5, 6, 4, 1]) / Real: tensor([3, 8, 8, 0, 6, 6, 1, 6, 3, 1])]\n",
            "Epoch [16/30], Step [1/5000], Loss: 1.1135, Accuracy: 70.0%\n",
            "Testing data: [Predicted: tensor([3, 8, 0, 0, 4, 6, 5, 6, 3, 1]) / Real: tensor([3, 8, 8, 0, 6, 6, 1, 6, 3, 1])]\n",
            "Epoch [16/30], Step [2001/5000], Loss: 1.3326, Accuracy: 70.0%\n",
            "Testing data: [Predicted: tensor([3, 8, 0, 0, 4, 6, 5, 6, 3, 1]) / Real: tensor([3, 8, 8, 0, 6, 6, 1, 6, 3, 1])]\n",
            "Epoch [16/30], Step [4001/5000], Loss: 0.6805, Accuracy: 60.0%\n",
            "Testing data: [Predicted: tensor([3, 1, 0, 0, 4, 6, 5, 6, 3, 1]) / Real: tensor([3, 8, 8, 0, 6, 6, 1, 6, 3, 1])]\n",
            "Epoch [17/30], Step [1/5000], Loss: 0.7333, Accuracy: 70.0%\n",
            "Testing data: [Predicted: tensor([3, 8, 0, 0, 4, 6, 5, 6, 3, 1]) / Real: tensor([3, 8, 8, 0, 6, 6, 1, 6, 3, 1])]\n",
            "Epoch [17/30], Step [2001/5000], Loss: 0.9947, Accuracy: 60.0%\n",
            "Testing data: [Predicted: tensor([3, 0, 0, 0, 4, 6, 5, 6, 3, 1]) / Real: tensor([3, 8, 8, 0, 6, 6, 1, 6, 3, 1])]\n",
            "Epoch [17/30], Step [4001/5000], Loss: 0.6630, Accuracy: 60.0%\n",
            "Testing data: [Predicted: tensor([3, 0, 0, 0, 4, 6, 5, 6, 3, 1]) / Real: tensor([3, 8, 8, 0, 6, 6, 1, 6, 3, 1])]\n",
            "Epoch [18/30], Step [1/5000], Loss: 0.9314, Accuracy: 60.0%\n",
            "Testing data: [Predicted: tensor([3, 1, 9, 0, 4, 6, 5, 6, 3, 1]) / Real: tensor([3, 8, 8, 0, 6, 6, 1, 6, 3, 1])]\n",
            "Epoch [18/30], Step [2001/5000], Loss: 0.9396, Accuracy: 70.0%\n",
            "Testing data: [Predicted: tensor([3, 8, 0, 0, 4, 6, 3, 6, 3, 1]) / Real: tensor([3, 8, 8, 0, 6, 6, 1, 6, 3, 1])]\n",
            "Epoch [18/30], Step [4001/5000], Loss: 0.7278, Accuracy: 60.0%\n",
            "Testing data: [Predicted: tensor([3, 0, 0, 0, 4, 6, 5, 6, 3, 1]) / Real: tensor([3, 8, 8, 0, 6, 6, 1, 6, 3, 1])]\n",
            "Epoch [19/30], Step [1/5000], Loss: 1.6704, Accuracy: 50.0%\n",
            "Testing data: [Predicted: tensor([3, 1, 9, 0, 4, 6, 5, 6, 7, 1]) / Real: tensor([3, 8, 8, 0, 6, 6, 1, 6, 3, 1])]\n",
            "Epoch [19/30], Step [2001/5000], Loss: 0.5626, Accuracy: 50.0%\n",
            "Testing data: [Predicted: tensor([3, 0, 9, 0, 4, 4, 5, 6, 3, 1]) / Real: tensor([3, 8, 8, 0, 6, 6, 1, 6, 3, 1])]\n",
            "Epoch [19/30], Step [4001/5000], Loss: 0.6901, Accuracy: 70.0%\n",
            "Testing data: [Predicted: tensor([3, 8, 9, 0, 4, 6, 3, 6, 3, 1]) / Real: tensor([3, 8, 8, 0, 6, 6, 1, 6, 3, 1])]\n",
            "Epoch [20/30], Step [1/5000], Loss: 0.3769, Accuracy: 60.0%\n",
            "Testing data: [Predicted: tensor([3, 0, 0, 0, 4, 6, 5, 6, 3, 1]) / Real: tensor([3, 8, 8, 0, 6, 6, 1, 6, 3, 1])]\n",
            "Epoch [20/30], Step [2001/5000], Loss: 0.2797, Accuracy: 60.0%\n",
            "Testing data: [Predicted: tensor([3, 0, 0, 0, 4, 6, 5, 6, 3, 1]) / Real: tensor([3, 8, 8, 0, 6, 6, 1, 6, 3, 1])]\n",
            "Epoch [20/30], Step [4001/5000], Loss: 0.5548, Accuracy: 70.0%\n",
            "Testing data: [Predicted: tensor([3, 8, 9, 0, 4, 6, 5, 6, 3, 1]) / Real: tensor([3, 8, 8, 0, 6, 6, 1, 6, 3, 1])]\n",
            "Epoch [21/30], Step [1/5000], Loss: 1.0177, Accuracy: 60.0%\n",
            "Testing data: [Predicted: tensor([3, 8, 9, 2, 4, 6, 5, 6, 3, 1]) / Real: tensor([3, 8, 8, 0, 6, 6, 1, 6, 3, 1])]\n",
            "Epoch [21/30], Step [2001/5000], Loss: 0.3495, Accuracy: 60.0%\n",
            "Testing data: [Predicted: tensor([3, 8, 9, 2, 4, 6, 5, 6, 3, 1]) / Real: tensor([3, 8, 8, 0, 6, 6, 1, 6, 3, 1])]\n",
            "Epoch [21/30], Step [4001/5000], Loss: 1.0053, Accuracy: 60.0%\n",
            "Testing data: [Predicted: tensor([3, 8, 0, 2, 4, 6, 5, 6, 3, 1]) / Real: tensor([3, 8, 8, 0, 6, 6, 1, 6, 3, 1])]\n",
            "Epoch [22/30], Step [1/5000], Loss: 0.3380, Accuracy: 50.0%\n",
            "Testing data: [Predicted: tensor([3, 0, 9, 0, 4, 6, 5, 6, 7, 1]) / Real: tensor([3, 8, 8, 0, 6, 6, 1, 6, 3, 1])]\n",
            "Epoch [22/30], Step [2001/5000], Loss: 0.9479, Accuracy: 60.0%\n",
            "Testing data: [Predicted: tensor([3, 0, 0, 0, 4, 6, 3, 6, 3, 1]) / Real: tensor([3, 8, 8, 0, 6, 6, 1, 6, 3, 1])]\n",
            "Epoch [22/30], Step [4001/5000], Loss: 1.0733, Accuracy: 60.0%\n",
            "Testing data: [Predicted: tensor([3, 1, 0, 0, 4, 6, 5, 6, 3, 1]) / Real: tensor([3, 8, 8, 0, 6, 6, 1, 6, 3, 1])]\n",
            "Epoch [23/30], Step [1/5000], Loss: 1.3804, Accuracy: 70.0%\n",
            "Testing data: [Predicted: tensor([3, 8, 0, 0, 4, 6, 3, 6, 3, 1]) / Real: tensor([3, 8, 8, 0, 6, 6, 1, 6, 3, 1])]\n",
            "Epoch [23/30], Step [2001/5000], Loss: 0.4563, Accuracy: 60.0%\n",
            "Testing data: [Predicted: tensor([3, 1, 9, 0, 4, 6, 5, 6, 3, 1]) / Real: tensor([3, 8, 8, 0, 6, 6, 1, 6, 3, 1])]\n",
            "Epoch [23/30], Step [4001/5000], Loss: 0.8289, Accuracy: 60.0%\n",
            "Testing data: [Predicted: tensor([3, 0, 0, 0, 4, 6, 5, 6, 3, 1]) / Real: tensor([3, 8, 8, 0, 6, 6, 1, 6, 3, 1])]\n",
            "Epoch [24/30], Step [1/5000], Loss: 0.1907, Accuracy: 60.0%\n",
            "Testing data: [Predicted: tensor([3, 0, 0, 0, 4, 6, 3, 6, 3, 1]) / Real: tensor([3, 8, 8, 0, 6, 6, 1, 6, 3, 1])]\n",
            "Epoch [24/30], Step [2001/5000], Loss: 1.1090, Accuracy: 60.0%\n",
            "Testing data: [Predicted: tensor([3, 0, 0, 0, 4, 6, 5, 6, 3, 1]) / Real: tensor([3, 8, 8, 0, 6, 6, 1, 6, 3, 1])]\n",
            "Epoch [24/30], Step [4001/5000], Loss: 0.4988, Accuracy: 50.0%\n",
            "Testing data: [Predicted: tensor([3, 1, 0, 0, 4, 6, 5, 6, 4, 1]) / Real: tensor([3, 8, 8, 0, 6, 6, 1, 6, 3, 1])]\n",
            "Epoch [25/30], Step [1/5000], Loss: 0.7967, Accuracy: 50.0%\n",
            "Testing data: [Predicted: tensor([3, 1, 0, 0, 4, 6, 3, 6, 4, 1]) / Real: tensor([3, 8, 8, 0, 6, 6, 1, 6, 3, 1])]\n",
            "Epoch [25/30], Step [2001/5000], Loss: 0.6695, Accuracy: 60.0%\n",
            "Testing data: [Predicted: tensor([3, 8, 0, 2, 4, 6, 5, 6, 3, 1]) / Real: tensor([3, 8, 8, 0, 6, 6, 1, 6, 3, 1])]\n",
            "Epoch [25/30], Step [4001/5000], Loss: 0.4925, Accuracy: 60.0%\n",
            "Testing data: [Predicted: tensor([3, 1, 0, 0, 4, 6, 5, 6, 3, 1]) / Real: tensor([3, 8, 8, 0, 6, 6, 1, 6, 3, 1])]\n",
            "Epoch [26/30], Step [1/5000], Loss: 0.3353, Accuracy: 70.0%\n",
            "Testing data: [Predicted: tensor([3, 8, 0, 0, 4, 6, 5, 6, 3, 1]) / Real: tensor([3, 8, 8, 0, 6, 6, 1, 6, 3, 1])]\n",
            "Epoch [26/30], Step [2001/5000], Loss: 0.6108, Accuracy: 50.0%\n",
            "Testing data: [Predicted: tensor([3, 1, 9, 0, 4, 6, 5, 6, 7, 1]) / Real: tensor([3, 8, 8, 0, 6, 6, 1, 6, 3, 1])]\n",
            "Epoch [26/30], Step [4001/5000], Loss: 0.7782, Accuracy: 60.0%\n",
            "Testing data: [Predicted: tensor([3, 0, 0, 0, 4, 6, 5, 6, 3, 1]) / Real: tensor([3, 8, 8, 0, 6, 6, 1, 6, 3, 1])]\n",
            "Epoch [27/30], Step [1/5000], Loss: 0.9417, Accuracy: 70.0%\n",
            "Testing data: [Predicted: tensor([3, 1, 9, 0, 4, 6, 1, 6, 3, 1]) / Real: tensor([3, 8, 8, 0, 6, 6, 1, 6, 3, 1])]\n",
            "Epoch [27/30], Step [2001/5000], Loss: 0.6206, Accuracy: 60.0%\n",
            "Testing data: [Predicted: tensor([3, 1, 9, 0, 4, 6, 5, 6, 3, 1]) / Real: tensor([3, 8, 8, 0, 6, 6, 1, 6, 3, 1])]\n",
            "Epoch [27/30], Step [4001/5000], Loss: 0.7246, Accuracy: 60.0%\n",
            "Testing data: [Predicted: tensor([3, 8, 9, 0, 4, 6, 5, 6, 7, 1]) / Real: tensor([3, 8, 8, 0, 6, 6, 1, 6, 3, 1])]\n",
            "Epoch [28/30], Step [1/5000], Loss: 0.2226, Accuracy: 60.0%\n",
            "Testing data: [Predicted: tensor([3, 8, 0, 0, 4, 6, 3, 6, 7, 1]) / Real: tensor([3, 8, 8, 0, 6, 6, 1, 6, 3, 1])]\n",
            "Epoch [28/30], Step [2001/5000], Loss: 1.1498, Accuracy: 60.0%\n",
            "Testing data: [Predicted: tensor([3, 8, 0, 0, 4, 6, 5, 6, 7, 1]) / Real: tensor([3, 8, 8, 0, 6, 6, 1, 6, 3, 1])]\n",
            "Epoch [29/30], Step [1/5000], Loss: 0.4025, Accuracy: 40.0%\n",
            "Testing data: [Predicted: tensor([3, 0, 0, 2, 4, 6, 5, 6, 7, 1]) / Real: tensor([3, 8, 8, 0, 6, 6, 1, 6, 3, 1])]\n",
            "Epoch [29/30], Step [2001/5000], Loss: 0.3048, Accuracy: 60.0%\n",
            "Testing data: [Predicted: tensor([3, 1, 0, 0, 4, 6, 5, 6, 3, 1]) / Real: tensor([3, 8, 8, 0, 6, 6, 1, 6, 3, 1])]\n",
            "Epoch [29/30], Step [4001/5000], Loss: 1.1801, Accuracy: 50.0%\n",
            "Testing data: [Predicted: tensor([3, 1, 9, 0, 4, 6, 3, 6, 7, 1]) / Real: tensor([3, 8, 8, 0, 6, 6, 1, 6, 3, 1])]\n",
            "Epoch [30/30], Step [1/5000], Loss: 0.4904, Accuracy: 60.0%\n",
            "Testing data: [Predicted: tensor([3, 0, 0, 0, 4, 6, 5, 6, 3, 1]) / Real: tensor([3, 8, 8, 0, 6, 6, 1, 6, 3, 1])]\n",
            "Epoch [30/30], Step [2001/5000], Loss: 0.6056, Accuracy: 50.0%\n",
            "Testing data: [Predicted: tensor([3, 0, 9, 0, 4, 6, 3, 6, 7, 1]) / Real: tensor([3, 8, 8, 0, 6, 6, 1, 6, 3, 1])]\n",
            "Epoch [30/30], Step [4001/5000], Loss: 0.3432, Accuracy: 60.0%\n",
            "Testing data: [Predicted: tensor([3, 0, 9, 0, 4, 6, 5, 6, 3, 1]) / Real: tensor([3, 8, 8, 0, 6, 6, 1, 6, 3, 1])]\n"
          ],
          "name": "stdout"
        }
      ]
    },
    {
      "cell_type": "code",
      "metadata": {
        "id": "Zsl_XVXN1maE",
        "colab": {
          "base_uri": "https://localhost:8080/"
        },
        "outputId": "d363595c-ae75-4c78-ca45-f09e7478c24d"
      },
      "source": [
        "# Test after training is done\n",
        "model.eval() # Set model as evaluation mode (instead of mini-batch mean/var, batchnorm is used)\n",
        "with torch.no_grad(): # auto_grad off\n",
        "  correct = 0\n",
        "  total = 0\n",
        "  for images, labels in testloader:\n",
        "    #images = images.to(device)\n",
        "    #labels = labels.to(device)\n",
        "    outputs = model(images)\n",
        "    _, predicted = torch.max(outputs.data, 1)\n",
        "\n",
        "    total += labels.size(0)\n",
        "    correct += (predicted == labels).sum().item()\n",
        "\n",
        "  print('Accuracy of the network on the {} test images {}%'.format(len(testloader)*batch_size, 100*correct/total))"
      ],
      "execution_count": null,
      "outputs": [
        {
          "output_type": "stream",
          "text": [
            "Accuracy of the network on the 10000 test images 65.16%\n"
          ],
          "name": "stdout"
        }
      ]
    },
    {
      "cell_type": "code",
      "metadata": {
        "id": "2E-vc6UWafMK",
        "colab": {
          "base_uri": "https://localhost:8080/",
          "height": 281
        },
        "outputId": "b9cccb48-4c80-4d2d-ea3c-9486c006ca5a"
      },
      "source": [
        "plt.plot(loss_list)\n",
        "plt.title(\"CIFAR10 CNN loss example\")\n",
        "plt.show()"
      ],
      "execution_count": null,
      "outputs": [
        {
          "output_type": "display_data",
          "data": {
            "image/png": "[encoded data removed]",
            "text/plain": [
              "<Figure size 432x288 with 1 Axes>"
            ]
          },
          "metadata": {
            "tags": [],
            "needs_background": "light"
          }
        }
      ]
    }
  ]
}